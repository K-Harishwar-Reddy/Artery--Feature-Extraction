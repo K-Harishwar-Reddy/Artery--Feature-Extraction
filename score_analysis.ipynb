{
 "cells": [
  {
   "cell_type": "code",
   "execution_count": null,
   "id": "0cebf91a",
   "metadata": {},
   "outputs": [],
   "source": [
    "#!/usr/bin/python\n",
    "# -*- coding: utf-8 -*-\n",
    "# import necessary packages\n",
    "\n",
    "import os\n",
    "import numpy as np\n",
    "import pandas as pd\n",
    "import cv2\n",
    "import shutil\n",
    "import ast\n",
    "\n",
    "import seaborn as sns\n",
    "from matplotlib import pyplot as plt\n",
    "\n",
    "from collections import defaultdict\n",
    "from scipy.signal import find_peaks\n",
    "import scipy\n",
    "\n",
    "from sklearn.feature_selection import f_classif\n",
    "from extract_feature_utils import *\n",
    "from stat_vis_utils  import *\n",
    "from sklearn.metrics import confusion_matrix\n",
    "from sklearn.metrics import balanced_accuracy_score, cohen_kappa_score, accuracy_score"
   ]
  },
  {
   "cell_type": "code",
   "execution_count": null,
   "id": "c39290a9",
   "metadata": {},
   "outputs": [],
   "source": [
    "DIR_WSI = \"/Users/jinzhou/Desktop/Paper_MIA/data/wsi\"\n",
    "DIR_ANN = \"/Users/jinzhou/Desktop/Paper_MIA/data/ann_geojsons\"\n",
    "DIR_SAVE_RESULTS = \"/Users/jinzhou/Desktop/Paper_MIA/results\"\n",
    "DIR_SAVE_FIGURE = \"/Users/jinzhou/Desktop/Paper_MIA/results/figures\""
   ]
  },
  {
   "cell_type": "code",
   "execution_count": null,
   "id": "690fd126",
   "metadata": {},
   "outputs": [],
   "source": [
    "# From Jeff\n",
    "\n",
    "PATH_LABEL = \"/Users/jinzhou/Desktop/Paper_MIA/data/Batch 1,2,3 Art Scores COMPLETE.xlsx\"\n",
    "df_label = pd.ExcelFile(PATH_LABEL)\n",
    "df_label_batch_1 = df_label.parse(df_label.sheet_names[0], skiprows=1)\n",
    "df_label_batch_1 = df_label_batch_1.rename(columns = {'Unnamed: 0':'Artery_ID'}).set_index(\"Artery_ID\")\n",
    "df_label_batch_2 = df_label.parse(df_label.sheet_names[1], skiprows=1)\n",
    "df_label_batch_2 = df_label_batch_2.rename(columns = {'Unnamed: 0':'Artery_ID'}).set_index(\"Artery_ID\")\n",
    "df_label_batch_3 = df_label.parse(df_label.sheet_names[2], skiprows=1)\n",
    "df_label_batch_3 = df_label_batch_3.rename(columns = {'Unnamed: 0':'Artery_ID'}).set_index(\"Artery_ID\")\n",
    "df_label_jeff = pd.concat([df_label_batch_1, df_label_batch_2, df_label_batch_3], axis=1)\n",
    "df_label_jeff = df_label_jeff.replace({\"without arteriosclerosis\": 0, \"mild arteriosclerosis\": 1, \n",
    "                                       \"mild hyalinosis\": 1, \"moderate arteriosclerosis\": 2, \n",
    "                                       \"severe arteriosclerosis\": 3, \n",
    "                                       \"0 (no green line - reject)\": np.nan, \"1 (no green line - reject)\": np.nan,\n",
    "                                       \"reject, no lumen\": np.nan, \"fix\": np.nan, \"-\": np.nan, \" - \": np.nan})"
   ]
  },
  {
   "cell_type": "code",
   "execution_count": null,
   "id": "161eca59",
   "metadata": {
    "scrolled": true
   },
   "outputs": [],
   "source": [
    "df_label_jeff.to_csv(\"/Users/jinzhou/Desktop/Paper_MIA/data/labels_jeff.csv\")"
   ]
  },
  {
   "cell_type": "code",
   "execution_count": null,
   "id": "a13babdd",
   "metadata": {},
   "outputs": [],
   "source": []
  },
  {
   "cell_type": "code",
   "execution_count": null,
   "id": "cca39468",
   "metadata": {},
   "outputs": [],
   "source": [
    "# From David\n",
    "PATH_LABEL_2 = \"/Users/jinzhou/Desktop/Paper_MIA/data/Batch 2 Art Scores from David_Completed.xlsx\"\n",
    "PATH_LABEL_3 = \"/Users/jinzhou/Desktop/Paper_MIA/data/Batch 3 Art Scores from David_Completed.xlsx\"\n",
    "df_label_batch_2 = pd.ExcelFile(PATH_LABEL_2)\n",
    "df_label_batch_2 = df_label_batch_2.parse(df_label_batch_2.sheet_names[0], skiprows=1)\n",
    "df_label_batch_2 = df_label_batch_2.rename(columns = {'Unnamed: 0':'Artery_ID'}).set_index(\"Artery_ID\")\n",
    "\n",
    "df_label_batch_3 = pd.ExcelFile(PATH_LABEL_3)\n",
    "df_label_batch_3 = df_label_batch_3.parse(df_label_batch_3.sheet_names[0], skiprows=1)\n",
    "df_label_batch_3 = df_label_batch_3.rename(columns = {'Unnamed: 0':'Artery_ID'}).set_index(\"Artery_ID\")\n",
    "\n",
    "df_label_david = pd.concat([df_label_batch_2, df_label_batch_3], axis=1)\n",
    "df_label_david = df_label_david.replace({\"without arteriosclerosis\": 0, \"mild arteriosclerosis\": 1, \n",
    "                                       \"mild hyalinosis\": 1, \"Mild arteriosclerosis\": 1,\n",
    "                                        \"moderate arteriosclerosis\": 2, \n",
    "                                         \n",
    "                                       \"severe arteriosclerosis\": 3, \n",
    "                                       \"0 (no green line - reject)\": np.nan, \"1 (no green line - reject)\": np.nan,\n",
    "                                       \"reject, no lumen\": np.nan, \"fix\": np.nan, \"-\": np.nan, \" - \": np.nan})"
   ]
  },
  {
   "cell_type": "code",
   "execution_count": null,
   "id": "9aa31776",
   "metadata": {},
   "outputs": [],
   "source": [
    "df_label_david.to_csv(\"/Users/jinzhou/Desktop/Paper_MIA/data/labels_david.csv\")"
   ]
  },
  {
   "cell_type": "code",
   "execution_count": null,
   "id": "84b688d6",
   "metadata": {},
   "outputs": [],
   "source": [
    "# df_label_david = df_label_david.loc[:, ['015_TRI_235805',  '2_4827_A_0045173', '2_4839_A_0039862',\n",
    "#        '2_4841_A_0045207', '2_6063_A_0045151', '2_6094_A_0039851',\n",
    "#        '2_6097_A_0045196', '2_6128_A_0037277', '2_6130_A_0037288']]"
   ]
  },
  {
   "cell_type": "code",
   "execution_count": null,
   "id": "883954d8",
   "metadata": {},
   "outputs": [],
   "source": [
    "wsi_ids_common = df_label_david.columns"
   ]
  },
  {
   "cell_type": "code",
   "execution_count": null,
   "id": "6c1fb190",
   "metadata": {},
   "outputs": [],
   "source": [
    "wsi_ids_common"
   ]
  },
  {
   "cell_type": "code",
   "execution_count": null,
   "id": "48dcba02",
   "metadata": {
    "scrolled": false
   },
   "outputs": [],
   "source": [
    "for col in wsi_ids_common:\n",
    "    \n",
    "    df_jeff_col = df_label_jeff.loc[:, [col]]\n",
    "    df_david_col = df_label_david.loc[:, [col]]\n",
    "    \n",
    "    stacked_jeff = df_jeff_col.stack()\n",
    "    stacked_jeff.index = stacked_jeff.index.map('{0[1]}_{0[0]}'.format)\n",
    "    df_jeff_col = stacked_jeff.to_frame()\n",
    "    df_jeff_col.columns = [\"Jeff\"]\n",
    "    \n",
    "    stacked_david = df_david_col.stack()\n",
    "    stacked_david.index = stacked_david.index.map('{0[1]}_{0[0]}'.format)\n",
    "    df_david_col = stacked_david.to_frame()\n",
    "    df_david_col.columns = [\"David\"]\n",
    "    \n",
    "    df_label = pd.concat([df_jeff_col, df_david_col], axis=1)\n",
    "    df_label = df_label.dropna()\n",
    "    y_jeff = df_label.loc[:, \"Jeff\"].values\n",
    "    y_david = df_label.loc[:, \"David\"].values\n",
    "    \n",
    "    print(col, cohen_kappa_score(y_jeff, y_david))\n",
    "    print(confusion_matrix(y_jeff, y_david))\n",
    "    \n",
    "    "
   ]
  },
  {
   "cell_type": "code",
   "execution_count": null,
   "id": "62c89ce8",
   "metadata": {},
   "outputs": [],
   "source": [
    "wsi_ids_test = [ '16-032-02_TRI_11628_copy', '2_4827_A_0045173', \n",
    "       '2_4841_A_0045207', '2_6094_A_0039851',\n",
    "       '2_6097_A_0045196', '2_6128_A_0037277', '2_6130_A_0037288']\n"
   ]
  },
  {
   "cell_type": "code",
   "execution_count": null,
   "id": "bf7349a3",
   "metadata": {},
   "outputs": [],
   "source": [
    "df_label_david = df_label_david.loc[:, wsi_ids_test]"
   ]
  },
  {
   "cell_type": "code",
   "execution_count": null,
   "id": "1e4f5077",
   "metadata": {},
   "outputs": [],
   "source": [
    "stacked_jeff = df_label_jeff.stack()\n",
    "stacked_jeff.index = stacked_jeff.index.map('{0[1]}_{0[0]}'.format)\n",
    "df_label_jeff = stacked_jeff.to_frame()\n",
    "df_label_jeff.columns = [\"Jeff\"]\n",
    "df_label_jeff"
   ]
  },
  {
   "cell_type": "code",
   "execution_count": null,
   "id": "0bd77aff",
   "metadata": {},
   "outputs": [],
   "source": [
    "stacked_david = df_label_david.stack()\n",
    "stacked_david.index = stacked_david.index.map('{0[1]}_{0[0]}'.format)\n",
    "df_label_david = stacked_david.to_frame()\n",
    "df_label_david.columns = [\"David\"]\n",
    "df_label_david"
   ]
  },
  {
   "cell_type": "code",
   "execution_count": null,
   "id": "292f257a",
   "metadata": {},
   "outputs": [],
   "source": [
    "    \n",
    "    "
   ]
  },
  {
   "cell_type": "code",
   "execution_count": null,
   "id": "962eb375",
   "metadata": {},
   "outputs": [],
   "source": [
    "df_label = pd.concat([df_label_jeff, df_label_david], axis=1)"
   ]
  },
  {
   "cell_type": "code",
   "execution_count": null,
   "id": "6021e699",
   "metadata": {},
   "outputs": [],
   "source": [
    "df_label = df_label.dropna()"
   ]
  },
  {
   "cell_type": "code",
   "execution_count": null,
   "id": "eeef7675",
   "metadata": {},
   "outputs": [],
   "source": [
    "y_jeff = df_label.loc[:, \"Jeff\"].values\n",
    "y_david = df_label.loc[:, \"David\"].values"
   ]
  },
  {
   "cell_type": "code",
   "execution_count": null,
   "id": "ab1608e0",
   "metadata": {},
   "outputs": [],
   "source": [
    "confusion_matrix(y_jeff, y_david)"
   ]
  },
  {
   "cell_type": "code",
   "execution_count": null,
   "id": "29f3880e",
   "metadata": {},
   "outputs": [],
   "source": [
    "cohen_kappa_score(y_jeff, y_david)"
   ]
  },
  {
   "cell_type": "code",
   "execution_count": null,
   "id": "a165e7c7",
   "metadata": {},
   "outputs": [],
   "source": [
    "scipy.stats.kendalltau(y_jeff, y_david)"
   ]
  },
  {
   "cell_type": "code",
   "execution_count": null,
   "id": "a114389b",
   "metadata": {
    "scrolled": true
   },
   "outputs": [],
   "source": [
    "y_jeff[y_jeff>=1]=1\n",
    "y_david[y_david>=1]=1\n",
    "cohen_kappa_score(y_jeff, y_david)"
   ]
  },
  {
   "cell_type": "code",
   "execution_count": null,
   "id": "5226ceb0",
   "metadata": {
    "scrolled": true
   },
   "outputs": [],
   "source": [
    "confusion_matrix(y_jeff, y_david)"
   ]
  },
  {
   "cell_type": "code",
   "execution_count": null,
   "id": "180ff340",
   "metadata": {},
   "outputs": [],
   "source": []
  }
 ],
 "metadata": {
  "kernelspec": {
   "display_name": "Python 3 (ipykernel)",
   "language": "python",
   "name": "python3"
  },
  "language_info": {
   "codemirror_mode": {
    "name": "ipython",
    "version": 3
   },
   "file_extension": ".py",
   "mimetype": "text/x-python",
   "name": "python",
   "nbconvert_exporter": "python",
   "pygments_lexer": "ipython3",
   "version": "3.7.13"
  }
 },
 "nbformat": 4,
 "nbformat_minor": 5
}
