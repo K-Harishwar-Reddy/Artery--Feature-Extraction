{
 "cells": [
  {
   "cell_type": "code",
   "execution_count": 4,
   "id": "002b0593",
   "metadata": {},
   "outputs": [],
   "source": [
    "import imageio\n",
    "import os"
   ]
  },
  {
   "cell_type": "code",
   "execution_count": 11,
   "id": "7ee9f3c1",
   "metadata": {},
   "outputs": [],
   "source": [
    "dir_path = \"/Users/jinzhou/Desktop/Paper_MIA/results/figures/11_26609_009_008 L10 TRI/A47\""
   ]
  },
  {
   "cell_type": "code",
   "execution_count": 26,
   "id": "1cf05c19",
   "metadata": {
    "scrolled": true
   },
   "outputs": [
    {
     "data": {
      "text/plain": [
       "['00.png',\n",
       " '10.png',\n",
       " '20.png',\n",
       " '30.png',\n",
       " '40.png',\n",
       " '50.png',\n",
       " '60.png',\n",
       " '70.png',\n",
       " '80.png',\n",
       " '90.png',\n",
       " '100.png',\n",
       " '110.png',\n",
       " '120.png',\n",
       " '130.png',\n",
       " '140.png',\n",
       " '150.png',\n",
       " '160.png',\n",
       " '170.png',\n",
       " '180.png',\n",
       " '190.png',\n",
       " '200.png',\n",
       " '210.png',\n",
       " '220.png',\n",
       " '230.png',\n",
       " '240.png',\n",
       " '250.png',\n",
       " '260.png',\n",
       " '270.png',\n",
       " '280.png',\n",
       " '290.png',\n",
       " '300.png',\n",
       " '310.png',\n",
       " '320.png',\n",
       " '330.png',\n",
       " '340.png',\n",
       " '350.png']"
      ]
     },
     "execution_count": 26,
     "metadata": {},
     "output_type": "execute_result"
    }
   ],
   "source": [
    "file_nams = sorted(os.listdir(dir_path), key=lambda x: int(x[:-4]))\n",
    "file_nams"
   ]
  },
  {
   "cell_type": "code",
   "execution_count": 27,
   "id": "999462ed",
   "metadata": {},
   "outputs": [
    {
     "name": "stderr",
     "output_type": "stream",
     "text": [
      "/Users/jinzhou/anaconda3/envs/cv/lib/python3.7/site-packages/ipykernel_launcher.py:4: DeprecationWarning: Starting with ImageIO v3 the behavior of this function will switch to that of iio.v3.imread. To keep the current behavior (and make this warning dissapear) use `import imageio.v2 as imageio` or call `imageio.v2.imread` directly.\n",
      "  after removing the cwd from sys.path.\n"
     ]
    }
   ],
   "source": [
    "images = []\n",
    "for filename in file_nams:\n",
    "    file_path = os.path.join(dir_path, filename)\n",
    "    images.append(imageio.imread(file_path))\n",
    "# imageio.mimsave('/path/to/movie.gif', images)\n"
   ]
  },
  {
   "cell_type": "code",
   "execution_count": 28,
   "id": "4929f366",
   "metadata": {},
   "outputs": [],
   "source": [
    "imageio.mimsave('/Users/jinzhou/Desktop/movie.gif', images, duration=0.5)\n"
   ]
  },
  {
   "cell_type": "code",
   "execution_count": null,
   "id": "bc5f2126",
   "metadata": {},
   "outputs": [],
   "source": []
  }
 ],
 "metadata": {
  "kernelspec": {
   "display_name": "Python 3 (ipykernel)",
   "language": "python",
   "name": "python3"
  },
  "language_info": {
   "codemirror_mode": {
    "name": "ipython",
    "version": 3
   },
   "file_extension": ".py",
   "mimetype": "text/x-python",
   "name": "python",
   "nbconvert_exporter": "python",
   "pygments_lexer": "ipython3",
   "version": "3.7.13"
  }
 },
 "nbformat": 4,
 "nbformat_minor": 5
}
