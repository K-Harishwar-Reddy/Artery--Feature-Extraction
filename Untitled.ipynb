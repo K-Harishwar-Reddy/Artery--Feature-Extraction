{
 "cells": [
  {
   "cell_type": "code",
   "execution_count": 1,
   "id": "0f9d299c",
   "metadata": {},
   "outputs": [],
   "source": [
    "import imageio\n",
    "import os"
   ]
  },
  {
   "cell_type": "code",
   "execution_count": 2,
   "id": "ab2710c1",
   "metadata": {},
   "outputs": [],
   "source": [
    "DIR_SAVE_FIGURE = \"/Users/jinzhou/Desktop/USCAP/results/figures\"\n",
    "WSI_ID = \"11_26609_000_011_L02_TRI\"\n",
    "WSI_ID = \"KL-0023191_L03_TRIS_272723\"\n",
    "Artery_ID = \"A11\"\n",
    "Artery_ID = \"A07\""
   ]
  },
  {
   "cell_type": "code",
   "execution_count": 3,
   "id": "d936fe83",
   "metadata": {},
   "outputs": [],
   "source": [
    "Dir = os.path.join(DIR_SAVE_FIGURE, WSI_ID, Artery_ID)"
   ]
  },
  {
   "cell_type": "code",
   "execution_count": 4,
   "id": "e2b01c90",
   "metadata": {},
   "outputs": [
    {
     "name": "stderr",
     "output_type": "stream",
     "text": [
      "/Users/jinzhou/anaconda3/envs/cv/lib/python3.7/site-packages/ipykernel_launcher.py:5: DeprecationWarning: Starting with ImageIO v3 the behavior of this function will switch to that of iio.v3.imread. To keep the current behavior (and make this warning dissapear) use `import imageio.v2 as imageio` or call `imageio.v2.imread` directly.\n",
      "  \"\"\"\n"
     ]
    }
   ],
   "source": [
    "images = []\n",
    "for img_id in sorted(os.listdir(Dir)):\n",
    "    if img_id.startswith(\".\"): continue\n",
    "    path = os.path.join(Dir, img_id)\n",
    "    images.append(imageio.imread(path))\n",
    "imageio.mimsave(os.path.join(DIR_SAVE_FIGURE, WSI_ID, Artery_ID+\".gif\"), images, duration=.5)"
   ]
  },
  {
   "cell_type": "code",
   "execution_count": null,
   "id": "cd94b3ee",
   "metadata": {},
   "outputs": [],
   "source": []
  }
 ],
 "metadata": {
  "kernelspec": {
   "display_name": "Python 3 (ipykernel)",
   "language": "python",
   "name": "python3"
  },
  "language_info": {
   "codemirror_mode": {
    "name": "ipython",
    "version": 3
   },
   "file_extension": ".py",
   "mimetype": "text/x-python",
   "name": "python",
   "nbconvert_exporter": "python",
   "pygments_lexer": "ipython3",
   "version": "3.7.13"
  }
 },
 "nbformat": 4,
 "nbformat_minor": 5
}
