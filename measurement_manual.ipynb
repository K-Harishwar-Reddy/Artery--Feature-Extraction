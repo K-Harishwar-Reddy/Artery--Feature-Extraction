{
 "cells": [
  {
   "cell_type": "code",
   "execution_count": 1,
   "id": "6ab12dc4",
   "metadata": {
    "scrolled": true
   },
   "outputs": [
    {
     "ename": "KeyboardInterrupt",
     "evalue": "",
     "output_type": "error",
     "traceback": [
      "\u001b[0;31m---------------------------------------------------------------------------\u001b[0m",
      "\u001b[0;31mKeyboardInterrupt\u001b[0m                         Traceback (most recent call last)",
      "\u001b[0;32m/var/folders/pr/v0fjz6152rv3108fg8d7hb780000gn/T/ipykernel_8211/2009958293.py\u001b[0m in \u001b[0;36m<module>\u001b[0;34m\u001b[0m\n\u001b[1;32m      7\u001b[0m \u001b[0;34m\u001b[0m\u001b[0m\n\u001b[1;32m      8\u001b[0m \u001b[0;31m# Third-party imports\u001b[0m\u001b[0;34m\u001b[0m\u001b[0;34m\u001b[0m\u001b[0;34m\u001b[0m\u001b[0m\n\u001b[0;32m----> 9\u001b[0;31m \u001b[0;32mimport\u001b[0m \u001b[0mcv2\u001b[0m\u001b[0;34m\u001b[0m\u001b[0;34m\u001b[0m\u001b[0m\n\u001b[0m\u001b[1;32m     10\u001b[0m \u001b[0;32mimport\u001b[0m \u001b[0mgeojson\u001b[0m\u001b[0;34m\u001b[0m\u001b[0;34m\u001b[0m\u001b[0m\n\u001b[1;32m     11\u001b[0m \u001b[0;32mimport\u001b[0m \u001b[0mnumpy\u001b[0m \u001b[0;32mas\u001b[0m \u001b[0mnp\u001b[0m\u001b[0;34m\u001b[0m\u001b[0;34m\u001b[0m\u001b[0m\n",
      "\u001b[0;32m~/anaconda3/envs/cv/lib/python3.7/site-packages/cv2/__init__.py\u001b[0m in \u001b[0;36m<module>\u001b[0;34m\u001b[0m\n\u001b[1;32m    179\u001b[0m \u001b[0;34m\u001b[0m\u001b[0m\n\u001b[1;32m    180\u001b[0m \u001b[0;34m\u001b[0m\u001b[0m\n\u001b[0;32m--> 181\u001b[0;31m \u001b[0mbootstrap\u001b[0m\u001b[0;34m(\u001b[0m\u001b[0;34m)\u001b[0m\u001b[0;34m\u001b[0m\u001b[0;34m\u001b[0m\u001b[0m\n\u001b[0m",
      "\u001b[0;32m~/anaconda3/envs/cv/lib/python3.7/site-packages/cv2/__init__.py\u001b[0m in \u001b[0;36mbootstrap\u001b[0;34m()\u001b[0m\n\u001b[1;32m    151\u001b[0m     \u001b[0mpy_module\u001b[0m \u001b[0;34m=\u001b[0m \u001b[0msys\u001b[0m\u001b[0;34m.\u001b[0m\u001b[0mmodules\u001b[0m\u001b[0;34m.\u001b[0m\u001b[0mpop\u001b[0m\u001b[0;34m(\u001b[0m\u001b[0;34m\"cv2\"\u001b[0m\u001b[0;34m)\u001b[0m\u001b[0;34m\u001b[0m\u001b[0;34m\u001b[0m\u001b[0m\n\u001b[1;32m    152\u001b[0m \u001b[0;34m\u001b[0m\u001b[0m\n\u001b[0;32m--> 153\u001b[0;31m     \u001b[0mnative_module\u001b[0m \u001b[0;34m=\u001b[0m \u001b[0mimportlib\u001b[0m\u001b[0;34m.\u001b[0m\u001b[0mimport_module\u001b[0m\u001b[0;34m(\u001b[0m\u001b[0;34m\"cv2\"\u001b[0m\u001b[0;34m)\u001b[0m\u001b[0;34m\u001b[0m\u001b[0;34m\u001b[0m\u001b[0m\n\u001b[0m\u001b[1;32m    154\u001b[0m \u001b[0;34m\u001b[0m\u001b[0m\n\u001b[1;32m    155\u001b[0m     \u001b[0msys\u001b[0m\u001b[0;34m.\u001b[0m\u001b[0mmodules\u001b[0m\u001b[0;34m[\u001b[0m\u001b[0;34m\"cv2\"\u001b[0m\u001b[0;34m]\u001b[0m \u001b[0;34m=\u001b[0m \u001b[0mpy_module\u001b[0m\u001b[0;34m\u001b[0m\u001b[0;34m\u001b[0m\u001b[0m\n",
      "\u001b[0;32m~/anaconda3/envs/cv/lib/python3.7/importlib/__init__.py\u001b[0m in \u001b[0;36mimport_module\u001b[0;34m(name, package)\u001b[0m\n\u001b[1;32m    125\u001b[0m                 \u001b[0;32mbreak\u001b[0m\u001b[0;34m\u001b[0m\u001b[0;34m\u001b[0m\u001b[0m\n\u001b[1;32m    126\u001b[0m             \u001b[0mlevel\u001b[0m \u001b[0;34m+=\u001b[0m \u001b[0;36m1\u001b[0m\u001b[0;34m\u001b[0m\u001b[0;34m\u001b[0m\u001b[0m\n\u001b[0;32m--> 127\u001b[0;31m     \u001b[0;32mreturn\u001b[0m \u001b[0m_bootstrap\u001b[0m\u001b[0;34m.\u001b[0m\u001b[0m_gcd_import\u001b[0m\u001b[0;34m(\u001b[0m\u001b[0mname\u001b[0m\u001b[0;34m[\u001b[0m\u001b[0mlevel\u001b[0m\u001b[0;34m:\u001b[0m\u001b[0;34m]\u001b[0m\u001b[0;34m,\u001b[0m \u001b[0mpackage\u001b[0m\u001b[0;34m,\u001b[0m \u001b[0mlevel\u001b[0m\u001b[0;34m)\u001b[0m\u001b[0;34m\u001b[0m\u001b[0;34m\u001b[0m\u001b[0m\n\u001b[0m\u001b[1;32m    128\u001b[0m \u001b[0;34m\u001b[0m\u001b[0m\n\u001b[1;32m    129\u001b[0m \u001b[0;34m\u001b[0m\u001b[0m\n",
      "\u001b[0;31mKeyboardInterrupt\u001b[0m: "
     ]
    }
   ],
   "source": [
    "#!/usr/bin/python\n",
    "# -*- coding: utf-8 -*-\n",
    "\n",
    "# Standard library imports\n",
    "import os\n",
    "import time\n",
    "\n",
    "# Third-party imports\n",
    "import cv2\n",
    "import geojson\n",
    "import numpy as np\n",
    "import openslide\n",
    "import pandas as pd\n",
    "\n",
    "# Local application/library specific imports\n",
    "from data_utils import (adjust_artery_coords_by_boundry, cnt_polygon_test, clean_coord, \n",
    "                        get_border_of_ann, get_border_of_cnt, get_cnts_inside)\n",
    "from measure_utils import measure_thickness\n",
    "from vis_utils import plot_artery_ann, save_img"
   ]
  },
  {
   "cell_type": "code",
   "execution_count": null,
   "id": "47bd34ca",
   "metadata": {},
   "outputs": [],
   "source": [
    "DIR_WSI = \"/Users/jinzhou/Desktop/Paper_MIA/data/wsi\"\n",
    "DIR_ANN = \"/Users/jinzhou/Desktop/Paper_MIA/data/ann_geojson\"\n",
    "DIR_SAVE_RESULTS = \"/Users/jinzhou/Desktop/Paper_MIA/results\"\n",
    "DIR_SAVE_FIGURE = \"/Users/jinzhou/Desktop/Paper_MIA/results/figures\""
   ]
  },
  {
   "cell_type": "code",
   "execution_count": null,
   "id": "7af6d37c",
   "metadata": {
    "scrolled": true
   },
   "outputs": [],
   "source": [
    "def artery_analysis(slide, ann_outer, ann, slide_boundries, wsi_id, artery_id, df):\n",
    "    # get coordinates of arteries/media_outer_boundries\n",
    "    cnt_outer = ann_outer[\"geometry\"][\"coordinates\"]\n",
    "    # based on outer, get middle and inner insides/intersecs\n",
    "    cnts_middle = get_cnts_inside(ann, cnt_outer, target=\"Intima\")\n",
    "    cnts_inner = get_cnts_inside(ann, cnt_outer, target=\"Lumen\")\n",
    "    if len(cnts_inner) == 0 or len(cnts_inner) == 0:\n",
    "        print(\"No Intima/Media Contour: \", artery_id)\n",
    "        return df\n",
    "    # adjust coords based on slide boundry\n",
    "    (cnt_outer, cnts_middle, cnts_inner) = \\\n",
    "        adjust_artery_coords_by_boundry(cnt_outer, cnts_middle,\n",
    "            cnts_inner, slide_boundries)\n",
    "    \n",
    "    # adjust coords based on artery boundry\n",
    "    artery_boundry = get_border_of_cnt(cnt_outer, border=50)\n",
    "    (cnt_outer, cnts_middle, cnts_inner) = \\\n",
    "        adjust_artery_coords_by_boundry(cnt_outer, cnts_middle,\n",
    "            cnts_inner, artery_boundry) \n",
    "    \n",
    "    \n",
    "    (xmin, xmax, ymin, ymax) = artery_boundry\n",
    "    \n",
    "    curr_slide = slide[ymin:ymax, xmin:xmax].copy()\n",
    "    curr_slide = plot_artery_ann(curr_slide, cnt_outer, cnts_middle, cnts_inner)\n",
    "    \n",
    "    (h, w) = curr_slide.shape[:2]\n",
    "    curr_ann = np.zeros((h, w, 3), np.uint8)\n",
    "    curr_ann = plot_artery_ann(curr_ann, cnt_outer, cnts_middle, cnts_inner)\n",
    "    \n",
    "#     idx_inner = get_cnt_idx_w_largest_area(cnts_inner)\n",
    "#     cnt_inner = cnts_inner[idx_inner]\n",
    "    \n",
    "    dir_save = os.path.join(DIR_SAVE_FIGURE, wsi_id, artery_id)\n",
    "    \n",
    "    \n",
    "    area_lumen = np.sum([cv2.contourArea(cnt) for cnt in cnts_inner])\n",
    "    area_intima = np.sum([cv2.contourArea(cnt) for cnt in cnts_middle]) - area_lumen    \n",
    "    area_media = cv2.contourArea(cnt_outer) - area_intima - area_lumen\n",
    "#     thick_media = []\n",
    "#     thick_intima = []\n",
    "    for idx_inner, cnt_inner in enumerate(cnts_inner):\n",
    "        for idx_middle, cnt_middle in enumerate(cnts_middle):\n",
    "            if cnt_polygon_test(cnt_inner, cnt_middle):\n",
    "                # radial lines intersecs with excludde should be discarded\n",
    "                exclude = (cnts_middle[:idx_middle] + cnts_middle[idx_middle+1:] + \n",
    "                           cnts_inner[:idx_inner] + cnts_inner[idx_inner+1:])\n",
    "                thick_media, thick_intima=measure_thickness(\n",
    "                    cnt_outer, cnt_middle, cnt_inner, angle_width=15, exclude=exclude, \n",
    "                    vis=curr_ann, dir_save=dir_save)\n",
    "#                 thick_media = thick_media+thick_media_sub\n",
    "#                 thick_intima = thick_intima+thick_intima_sub\n",
    "                curr_area_intima = cv2.contourArea(cnt_middle)\n",
    "                curr_area_lumen = cv2.contourArea(cnt_inner)\n",
    "                row = {'WSI_ID':wsi_id, 'Artery_ID':artery_id, \n",
    "                       'Thickness_Media':thick_media, 'Thickness_Intima':thick_intima,\n",
    "                       'Area_Media': area_media, 'Area_Intima': area_intima, 'Area_Lumen': area_lumen,\n",
    "                       'Curr_Area_Intima': curr_area_intima, 'Curr_Area_Lumen': curr_area_lumen}\n",
    "                df = df.append(row, ignore_index=True)\n",
    "#             break\n",
    "#     save_img(curr_slide, DIR_SAVE_FIGURE, wsi_id, artery_id) \n",
    "    save_img(curr_ann, DIR_SAVE_FIGURE, wsi_id, artery_id+'_ann') \n",
    "#     imshow_k_in_row([curr_slide, curr_ann])\n",
    "    return df"
   ]
  },
  {
   "cell_type": "code",
   "execution_count": null,
   "id": "750833d8",
   "metadata": {},
   "outputs": [],
   "source": [
    "def wsi_analysis(slide, ann, slide_boundries, wsi_id, df):\n",
    "    \n",
    "    # get ann for arteries/media_outer_boundries\n",
    "    ann_outers = [ann_i for ann_i in ann if \"name\" in ann_i[\"properties\"]]\n",
    "    print(\"Number of arteries in {} is {}\".format(wsi_id, len(ann_outers)))\n",
    "    for i, ann_outer in enumerate(ann_outers):\n",
    "        artery_id = ann_outer[\"properties\"][\"name\"]\n",
    "#         if artery_id!=\"A47\":continue\n",
    "        print(artery_id)\n",
    "        # artery-level analysis\n",
    "        df = artery_analysis(slide, ann_outer, ann, slide_boundries, wsi_id, artery_id, df)\n",
    "    return df"
   ]
  },
  {
   "cell_type": "code",
   "execution_count": null,
   "id": "26b9c5b2",
   "metadata": {
    "scrolled": true
   },
   "outputs": [],
   "source": [
    "start_time = time.time()\n",
    "df = pd.DataFrame(columns = ['WSI_ID', 'Artery_ID', 'Thickness_Media', 'Thickness_Intima', \n",
    "                            'Area_Media', 'Area_Intima', 'Area_Lumen', 'Curr_Area_Intima', 'Curr_Area_Lumen'])\n",
    "path_to_save = os.path.join(DIR_SAVE_RESULTS, \"thickness.json\")\n",
    "\n",
    "for wsi in os.listdir(DIR_WSI):\n",
    "    if (not wsi.endswith(\".ndpi\")) and (not wsi.endswith(\".svs\")):\n",
    "        continue\n",
    "    start_time_wsi = time.time()\n",
    "    path_wsi = os.path.join(DIR_WSI, wsi)\n",
    "    wsi_id = \".\".join(wsi.split(\".\")[:-1])\n",
    "#     if wsi_id != \"2_6063_A_0045151\": continue\n",
    "#     if wsi_id in [\"015_TRI_235805\", \"16-032-02_TRI_11628_copy\", \"16-010-02_TRI_11632_copy\"]:\n",
    "#         continue\n",
    "#     if wsi_id.startswith(\"2\"): continue\n",
    "\n",
    "    print(\"Working on Case: \", wsi_id)\n",
    "    path_ann = os.path.join(DIR_ANN, wsi_id+\".geojson\")\n",
    "    \n",
    "    with open(path_ann) as f:\n",
    "        exported = geojson.load(f)\n",
    "        ann = exported['features']\n",
    "    \n",
    "    for i in range(len(ann)):\n",
    "        coords_raw = ann[i]['geometry']['coordinates']\n",
    "        ann[i]['geometry']['coordinates'] = clean_coord(coords_raw)\n",
    "    \n",
    "    # find the area including arteries, make it easier to plot\n",
    "    xmin, xmax, ymin, ymax = get_border_of_ann(ann)\n",
    "    \n",
    "    # open slide with formats of ndpi or svs\n",
    "    slide_0 = openslide.OpenSlide(path_wsi)\n",
    "\n",
    "    # fetch levels[0] res of whole WSI with only the area including arteries\n",
    "    slide = slide_0.read_region((xmin, ymin), 0, (xmax-xmin, ymax-ymin))\n",
    "    slide = np.asarray(slide)\n",
    "    print(\"Fetched Shape\",slide.shape)\n",
    "    # origin slide is in RGBA format, convert it to RGB and save to model data dir\n",
    "    slide = cv2.cvtColor(slide, cv2.COLOR_RGBA2RGB)\n",
    "    # WSI-level analysis\n",
    "    df = wsi_analysis(slide, ann, (xmin, xmax, ymin, ymax), wsi_id, df)\n",
    "    print(wsi_id, \" costs, \", time.time() - start_time_wsi)\n",
    "    print()\n",
    "\n",
    "print(\"In total, it costs \", time.time() - start_time)"
   ]
  },
  {
   "cell_type": "code",
   "execution_count": null,
   "id": "fd0d1df4",
   "metadata": {},
   "outputs": [],
   "source": [
    "df.to_json(path_to_save, orient=\"records\", lines=True)"
   ]
  },
  {
   "cell_type": "code",
   "execution_count": null,
   "id": "2fbad567",
   "metadata": {},
   "outputs": [],
   "source": [
    "df.shape"
   ]
  }
 ],
 "metadata": {
  "kernelspec": {
   "display_name": "Python 3 (ipykernel)",
   "language": "python",
   "name": "python3"
  },
  "language_info": {
   "codemirror_mode": {
    "name": "ipython",
    "version": 3
   },
   "file_extension": ".py",
   "mimetype": "text/x-python",
   "name": "python",
   "nbconvert_exporter": "python",
   "pygments_lexer": "ipython3",
   "version": "3.7.13"
  }
 },
 "nbformat": 4,
 "nbformat_minor": 5
}
