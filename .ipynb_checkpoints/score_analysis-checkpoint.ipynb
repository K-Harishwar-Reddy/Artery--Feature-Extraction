{
 "cells": [
  {
   "cell_type": "code",
   "execution_count": 1,
   "id": "1766a3fd",
   "metadata": {},
   "outputs": [],
   "source": [
    "#!/usr/bin/python\n",
    "# -*- coding: utf-8 -*-\n",
    "# import necessary packages\n",
    "\n",
    "import os\n",
    "import numpy as np\n",
    "import pandas as pd\n",
    "import cv2\n",
    "import shutil\n",
    "import ast\n",
    "\n",
    "import seaborn as sns\n",
    "from matplotlib import pyplot as plt\n",
    "\n",
    "from collections import defaultdict\n",
    "from scipy.signal import find_peaks\n",
    "import scipy\n",
    "\n",
    "from sklearn.feature_selection import f_classif\n",
    "from extract_feature_utils import *\n",
    "from stat_vis_utils  import *"
   ]
  },
  {
   "cell_type": "code",
   "execution_count": 2,
   "id": "6017b214",
   "metadata": {},
   "outputs": [],
   "source": [
    "DIR_WSI = \"/Users/jinzhou/Desktop/Paper_MIA/data/wsi\"\n",
    "DIR_ANN = \"/Users/jinzhou/Desktop/Paper_MIA/data/ann_geojsons\"\n",
    "DIR_SAVE_RESULTS = \"/Users/jinzhou/Desktop/Paper_MIA/results\"\n",
    "DIR_SAVE_FIGURE = \"/Users/jinzhou/Desktop/Paper_MIA/results/figures\""
   ]
  },
  {
   "cell_type": "code",
   "execution_count": null,
   "id": "4fb24155",
   "metadata": {},
   "outputs": [],
   "source": [
    "# From Jeff\n",
    "\n",
    "PATH_LABEL = \"/Users/jinzhou/Desktop/Paper_MIA/data/Batch 1,2,3 Art Scores COMPLETE.xlsx\"\n",
    "df_label = pd.ExcelFile(PATH_LABEL)\n",
    "df_label_batch_1 = df_label.parse(df_label.sheet_names[0], skiprows=1)\n",
    "df_label_batch_1 = df_label_batch_1.rename(columns = {'Unnamed: 0':'Artery_ID'}).set_index(\"Artery_ID\")\n",
    "df_label_batch_2 = df_label.parse(df_label.sheet_names[1], skiprows=1)\n",
    "df_label_batch_2 = df_label_batch_2.rename(columns = {'Unnamed: 0':'Artery_ID'}).set_index(\"Artery_ID\")\n",
    "df_label_batch_3 = df_label.parse(df_label.sheet_names[2], skiprows=1)\n",
    "df_label_batch_3 = df_label_batch_3.rename(columns = {'Unnamed: 0':'Artery_ID'}).set_index(\"Artery_ID\")\n",
    "df_label_batch_3\n",
    "df_label_jeff = pd.concat([df_label_batch_1, df_label_batch_2, df_label_batch_3], axis=1)\n"
   ]
  },
  {
   "cell_type": "code",
   "execution_count": null,
   "id": "b24f8186",
   "metadata": {},
   "outputs": [],
   "source": [
    "df_label_jeff = df_label_jeff.replace({\"without arteriosclerosis\": 0, \"mild arteriosclerosis\": 1, \n",
    "                                       \"mild hyalinosis\": 1, \"moderate arteriosclerosis\": 2, \n",
    "                                       \"severe arteriosclerosis\": 3, \n",
    "                                       \"0 (no green line - reject)\": np.nan, \"1 (no green line - reject)\": np.nan,\n",
    "                                       \"reject, no lumen\": np.nan, \"fix\": np.nan, \"-\": np.nan, \" - \": np.nan})\n",
    "\n"
   ]
  }
 ],
 "metadata": {
  "kernelspec": {
   "display_name": "Python 3 (ipykernel)",
   "language": "python",
   "name": "python3"
  },
  "language_info": {
   "codemirror_mode": {
    "name": "ipython",
    "version": 3
   },
   "file_extension": ".py",
   "mimetype": "text/x-python",
   "name": "python",
   "nbconvert_exporter": "python",
   "pygments_lexer": "ipython3",
   "version": "3.7.13"
  }
 },
 "nbformat": 4,
 "nbformat_minor": 5
}
