{
 "cells": [
  {
   "cell_type": "code",
   "execution_count": 1,
   "id": "148ef57c",
   "metadata": {},
   "outputs": [],
   "source": [
    "#!/usr/bin/python\n",
    "# -*- coding: utf-8 -*-\n",
    "# import necessary packages\n",
    "\n",
    "import os\n",
    "import numpy as np\n",
    "import pandas as pd\n",
    "import scipy\n",
    "from scipy import stats\n",
    "import ast\n",
    "\n",
    "import seaborn as sns\n",
    "from matplotlib import pyplot as plt\n",
    "\n",
    "from collections import defaultdict\n",
    "\n",
    "from sklearn.feature_selection import f_classif"
   ]
  },
  {
   "cell_type": "code",
   "execution_count": 2,
   "id": "5a8e8cee",
   "metadata": {},
   "outputs": [],
   "source": [
    "DIR_WSI = \"/Users/jinzhou/Desktop/USCAP/data/wsi\"\n",
    "DIR_ANN = \"/Users/jinzhou/Desktop/USCAP/data/ann_geojsons\"\n",
    "DIR_SAVE = \"/Users/jinzhou/Desktop/USCAP/data\""
   ]
  },
  {
   "cell_type": "markdown",
   "id": "eed207ed",
   "metadata": {},
   "source": [
    "## Process thickness.csv"
   ]
  },
  {
   "cell_type": "code",
   "execution_count": 3,
   "id": "9f7efd74",
   "metadata": {},
   "outputs": [],
   "source": [
    "PATH_STAT = os.path.join(DIR_SAVE, \"thickness.csv\")"
   ]
  },
  {
   "cell_type": "code",
   "execution_count": 4,
   "id": "c8786e19",
   "metadata": {},
   "outputs": [],
   "source": [
    "# read thickness analysis\n",
    "def read_df_from_csv(path_csv):\n",
    "    df = pd.read_csv(path_csv)\n",
    "    # original list in path_csv is read as string, for example \"[0.2, 0.1, ...]\"\n",
    "    # ast.literal_eval converts string to python literal structures\n",
    "    df['Thickness_Media_Abs'] = df['Thickness_Media_Abs'].apply(lambda x: ast.literal_eval(x))\n",
    "    df['Thickness_Intima_Abs'] = df['Thickness_Intima_Abs'].apply(lambda x: ast.literal_eval(x))\n",
    "    df['Thickness_Wall_Abs'] = df['Thickness_Wall_Abs'].apply(lambda x: ast.literal_eval(x))\n",
    "    return df\n",
    "\n",
    "df_thick = read_df_from_csv(PATH_STAT)"
   ]
  },
  {
   "cell_type": "code",
   "execution_count": 5,
   "id": "d067fc99",
   "metadata": {
    "scrolled": false
   },
   "outputs": [],
   "source": [
    "# A few adjustment to match qupath annotations to labels assignment\n",
    "# 1. In \"11_26609_023_512 L4 TRI\", A8 -> A08\n",
    "# 2. In \"11_26609_009_008 L10 TRI\", there are two A26, where the second one should be A27\n",
    "# 3. discard \"12_26609_021_507 L03 TRI\" from analysis\n",
    "\n",
    "df_thick.loc[:, 'Artery_ID'] = df_thick.loc[:, 'Artery_ID'].str.split('_').str[0]\n",
    "\n",
    "df_thick.loc[(df_thick.loc[:, 'WSI_ID'] == '11_26609_009_008 L10 TRI') & \n",
    "       (df_thick.loc[:, 'Artery_ID'] == 'A26'), 'Artery_ID'] = ['A26', 'A27']\n",
    "\n",
    "df_thick.loc[(df_thick.loc[:, 'WSI_ID'] == '11_26609_023_512 L4 TRI') & \n",
    "       (df_thick.loc[:, 'Artery_ID'] == 'A8'), 'Artery_ID'] = 'A08'\n",
    "\n",
    "df_thick = df_thick[df_thick.loc[:, \"WSI_ID\"]!=\"12_26609_021_507 L03 TRI\"]"
   ]
  },
  {
   "cell_type": "code",
   "execution_count": 6,
   "id": "e7099bce",
   "metadata": {},
   "outputs": [],
   "source": [
    "# Set and WSI_Artery_ID, ignoring media and intima index\n",
    "df_thick.loc[:, 'WSI_Artery_ID'] = df_thick.loc[:, 'WSI_ID'] + '_' \\\n",
    "    + df_thick.loc[:, 'Artery_ID']"
   ]
  },
  {
   "cell_type": "code",
   "execution_count": 7,
   "id": "24615c4b",
   "metadata": {},
   "outputs": [],
   "source": [
    "# For arteries with multiple lumen/intima areas, we pick the one with maxium lumen area\n",
    "df_thick = df_thick.sort_values('Area', ascending=False).drop_duplicates(['WSI_Artery_ID'])"
   ]
  },
  {
   "cell_type": "markdown",
   "id": "8f0d7c19",
   "metadata": {},
   "source": [
    "## Process \"Labels.xlsx\""
   ]
  },
  {
   "cell_type": "code",
   "execution_count": 8,
   "id": "e780ad0c",
   "metadata": {},
   "outputs": [],
   "source": [
    "PATH_LABEL = \"/Users/jinzhou/Desktop/USCAP/data/raw/labels_updated.xlsx\""
   ]
  },
  {
   "cell_type": "code",
   "execution_count": 9,
   "id": "c4ab68ec",
   "metadata": {},
   "outputs": [],
   "source": [
    "df_label = pd.ExcelFile(PATH_LABEL)\n",
    "\n",
    "# Only read the first sheet of the excel file\n",
    "sheet_name = df_label.sheet_names[0]\n",
    "df_label = df_label.parse(sheet_name, skiprows=1) # skip the first row\n",
    "# Use Artery_ID as row index and WSI_ID as column name\n",
    "df_label = df_label.rename(columns = {'Unnamed: 0':'Artery_ID'}).set_index(\"Artery_ID\")"
   ]
  },
  {
   "cell_type": "code",
   "execution_count": 10,
   "id": "473a0301",
   "metadata": {},
   "outputs": [],
   "source": [
    "# replace labels of strings to integers.\n",
    "df_label = df_label.replace({\"without arteriosclerosis\": 0, \n",
    "                             \"mild arteriosclerosis\": 1, \n",
    "                             \"mild hyalinosis\": 1, \n",
    "                             \"moderate arteriosclerosis\": 2,\n",
    "                             \"severe arteriosclerosis\": 3, \n",
    "                             \"-\": np.nan, \" - \": np.nan})\n"
   ]
  },
  {
   "cell_type": "markdown",
   "id": "ac11df52",
   "metadata": {},
   "source": [
    "## Clip and Normalize Thickness"
   ]
  },
  {
   "cell_type": "code",
   "execution_count": 36,
   "id": "0fb814ee",
   "metadata": {},
   "outputs": [],
   "source": [
    "def plot_hist_w_two_list(thickness_outer, thickness_inner, xlabel, excludes, path_to_svae):\n",
    "    for val in excludes:\n",
    "        thickness_outer = [x for x in thickness_outer if x!=val]\n",
    "        thickness_inner = [x for x in thickness_inner if x!=val]\n",
    "    bins = np.linspace(0, np.max(thickness_outer+thickness_inner), 100)\n",
    "    plt.figure(figsize=(10, 5))    \n",
    "    plt.hist(thickness_outer, bins=bins, alpha=0.5, label=\"Media\") \n",
    "    plt.hist(thickness_inner, bins=bins, alpha=0.5, label=\"Intima\")\n",
    "    plt.xticks(fontsize=15)\n",
    "    plt.yticks(fontsize=15)\n",
    "    plt.xlabel(xlabel, fontsize=20)\n",
    "    plt.ylabel(\"Frequency\", fontsize=20)\n",
    "    plt.legend(loc='upper right', fontsize=20)\n",
    "    if path_to_svae:\n",
    "        plt.savefig(path_to_svae)\n",
    "    plt.show()\n",
    "    \n",
    "\n",
    "def clip_normalize(thick_media, thick_intima, thick_wall, plot_hist=False):\n",
    "    assert len(thick_media) == len(thick_intima) == len(thick_wall) == 360\n",
    "    \n",
    "    # visualize hist before processing\n",
    "    if plot_hist:\n",
    "        plot_hist_w_two_list(thick_media, thick_intima, \"Thickness\", [-1], None)\n",
    "    # Clip by 0.05 * median value of  thick_wall\n",
    "    # remove all -1s, -1 means not intersection/thickness was found at this sample    \n",
    "    clip_th = 0.05*np.median([x for x in thick_wall if x!= -1])\n",
    "    thick_media_norm = [-1]*len(thick_media)\n",
    "    thick_intima_norm = [-1]*len(thick_intima)\n",
    "    for i in range(len(thick_wall)):\n",
    "        if thick_media[i] < clip_th or thick_intima[i] < clip_th: \n",
    "            # if either media or intima thickness is below threshold, discard both\n",
    "            continue\n",
    "        else:\n",
    "            thick_media_norm[i] = thick_media[i] / thick_wall[i]\n",
    "            thick_intima_norm[i] = thick_intima[i] / thick_wall[i]\n",
    "    thick_media_norm = [x for x in thick_media_norm if x!=-1]\n",
    "    thick_intima_norm = [x for x in thick_intima_norm if x!=-1]\n",
    "    if plot_hist:\n",
    "        plot_hist_w_two_list(thick_media_norm, thick_intima_norm, \n",
    "                             \"Clipped and Normalizied Thickness\", [], plot_hist)\n",
    "    return thick_media_norm, thick_intima_norm\n",
    "\n",
    "def get_features(dict_features, l_thick, prefix): \n",
    "    arr_thick = np.array(sorted(l_thick, reverse=True))\n",
    "    # average of the top 5% value\n",
    "    dict_features[prefix+\" Average of Top 5%\"] = np.mean(arr_thick[:len(arr_thick)//20])\n",
    "    dict_features[prefix+\" Skewness\"] = scipy.stats.skew(arr_thick)\n",
    "    dict_features[prefix+\" Power\"] = scipy.sum(arr_thick**2)/arr_thick.size"
   ]
  },
  {
   "cell_type": "code",
   "execution_count": 37,
   "id": "35708a8d",
   "metadata": {
    "scrolled": true
   },
   "outputs": [],
   "source": [
    "df_features_label = pd.DataFrame(columns = [\"WSI_Artery_ID\", \"Media Average of Top 5%\", \"Media Skewness\", \"Media Power\", \n",
    "                                             \"Intima Average of Top 5%\", \"Intima Skewness\", \"Intima Power\",\n",
    "                                             \"Label\"])\n",
    "\n",
    "for index, row in df_thick.iterrows():\n",
    "    thick_media = row[\"Thickness_Media_Abs\"]\n",
    "    thick_intima = row[\"Thickness_Intima_Abs\"]\n",
    "    thick_wall = row[\"Thickness_Wall_Abs\"]\n",
    "    path_save_hist = os.path.join(DIR_SAVE, row[\"WSI_ID\"], row[\"Artery_ID\"]+\"_hist.png\")\n",
    "    \n",
    "    # clip and normalize\n",
    "    thick_media, thick_intima = clip_normalize(thick_media = row[\"Thickness_Media_Abs\"], \n",
    "                                               thick_intima = row[\"Thickness_Intima_Abs\"], \n",
    "                                               thick_wall = row[\"Thickness_Wall_Abs\"], plot_hist=None)\n",
    "    # feature extraction\n",
    "    row_features_label = {}\n",
    "    features_media = get_features(row_features_label, thick_media, \"Media\")\n",
    "    features_intima = get_features(row_features_label, thick_intima, \"Intima\")\n",
    "    row_features_label[\"WSI_Artery_ID\"] = row[\"WSI_Artery_ID\"]\n",
    "    row_features_label[\"Label\"] = df_label.loc[row[\"Artery_ID\"], row[\"WSI_ID\"]]\n",
    "    df_features_label = df_features_label.append(row_features_label, ignore_index=True)"
   ]
  },
  {
   "cell_type": "code",
   "execution_count": 38,
   "id": "b198e37b",
   "metadata": {},
   "outputs": [
    {
     "data": {
      "text/html": [
       "<div>\n",
       "<style scoped>\n",
       "    .dataframe tbody tr th:only-of-type {\n",
       "        vertical-align: middle;\n",
       "    }\n",
       "\n",
       "    .dataframe tbody tr th {\n",
       "        vertical-align: top;\n",
       "    }\n",
       "\n",
       "    .dataframe thead th {\n",
       "        text-align: right;\n",
       "    }\n",
       "</style>\n",
       "<table border=\"1\" class=\"dataframe\">\n",
       "  <thead>\n",
       "    <tr style=\"text-align: right;\">\n",
       "      <th></th>\n",
       "      <th>WSI_Artery_ID</th>\n",
       "      <th>Media Average of Top 5%</th>\n",
       "      <th>Media Skewness</th>\n",
       "      <th>Media Power</th>\n",
       "      <th>Intima Average of Top 5%</th>\n",
       "      <th>Intima Skewness</th>\n",
       "      <th>Intima Power</th>\n",
       "      <th>Label</th>\n",
       "    </tr>\n",
       "  </thead>\n",
       "  <tbody>\n",
       "    <tr>\n",
       "      <th>0</th>\n",
       "      <td>11_26609_023_512 L4 TRI_A15</td>\n",
       "      <td>0.944890</td>\n",
       "      <td>-0.735264</td>\n",
       "      <td>0.476863</td>\n",
       "      <td>0.794501</td>\n",
       "      <td>0.735264</td>\n",
       "      <td>0.153233</td>\n",
       "      <td>1.0</td>\n",
       "    </tr>\n",
       "    <tr>\n",
       "      <th>1</th>\n",
       "      <td>11_26609_000_013_L02 TRI_A06</td>\n",
       "      <td>0.598438</td>\n",
       "      <td>0.617807</td>\n",
       "      <td>0.116973</td>\n",
       "      <td>0.883658</td>\n",
       "      <td>-0.617807</td>\n",
       "      <td>0.466776</td>\n",
       "      <td>3.0</td>\n",
       "    </tr>\n",
       "    <tr>\n",
       "      <th>2</th>\n",
       "      <td>11_26609_023_512 L4 TRI_A06</td>\n",
       "      <td>0.774866</td>\n",
       "      <td>-1.437071</td>\n",
       "      <td>0.328156</td>\n",
       "      <td>0.950179</td>\n",
       "      <td>1.437071</td>\n",
       "      <td>0.245378</td>\n",
       "      <td>1.0</td>\n",
       "    </tr>\n",
       "    <tr>\n",
       "      <th>3</th>\n",
       "      <td>14_26609_040_021 L03 TRI_A01</td>\n",
       "      <td>0.691044</td>\n",
       "      <td>-0.280485</td>\n",
       "      <td>0.218889</td>\n",
       "      <td>0.881055</td>\n",
       "      <td>0.280485</td>\n",
       "      <td>0.350422</td>\n",
       "      <td>3.0</td>\n",
       "    </tr>\n",
       "    <tr>\n",
       "      <th>4</th>\n",
       "      <td>11_26609_027_005 L03 TRI_A08</td>\n",
       "      <td>0.870605</td>\n",
       "      <td>-1.066079</td>\n",
       "      <td>0.486147</td>\n",
       "      <td>0.664824</td>\n",
       "      <td>1.066079</td>\n",
       "      <td>0.115666</td>\n",
       "      <td>2.0</td>\n",
       "    </tr>\n",
       "  </tbody>\n",
       "</table>\n",
       "</div>"
      ],
      "text/plain": [
       "                  WSI_Artery_ID  Media Average of Top 5%  Media Skewness  \\\n",
       "0   11_26609_023_512 L4 TRI_A15                 0.944890       -0.735264   \n",
       "1  11_26609_000_013_L02 TRI_A06                 0.598438        0.617807   \n",
       "2   11_26609_023_512 L4 TRI_A06                 0.774866       -1.437071   \n",
       "3  14_26609_040_021 L03 TRI_A01                 0.691044       -0.280485   \n",
       "4  11_26609_027_005 L03 TRI_A08                 0.870605       -1.066079   \n",
       "\n",
       "   Media Power  Intima Average of Top 5%  Intima Skewness  Intima Power  Label  \n",
       "0     0.476863                  0.794501         0.735264      0.153233    1.0  \n",
       "1     0.116973                  0.883658        -0.617807      0.466776    3.0  \n",
       "2     0.328156                  0.950179         1.437071      0.245378    1.0  \n",
       "3     0.218889                  0.881055         0.280485      0.350422    3.0  \n",
       "4     0.486147                  0.664824         1.066079      0.115666    2.0  "
      ]
     },
     "execution_count": 38,
     "metadata": {},
     "output_type": "execute_result"
    }
   ],
   "source": [
    "df_features_label.head()"
   ]
  },
  {
   "cell_type": "markdown",
   "id": "83e73a06",
   "metadata": {},
   "source": [
    "## HeatMap, Boxtplot and Kendall Tau Analysis"
   ]
  },
  {
   "cell_type": "code",
   "execution_count": 39,
   "id": "77705504",
   "metadata": {
    "scrolled": false
   },
   "outputs": [
    {
     "data": {
      "image/png": "[encoded data removed]",
      "text/plain": [
       "<Figure size 1728x288 with 5 Axes>"
      ]
     },
     "metadata": {
      "needs_background": "light"
     },
     "output_type": "display_data"
    },
    {
     "name": "stdout",
     "output_type": "stream",
     "text": [
      "Feature: Media Average of Top 5%; kendalltau: rho = -0.43, p = 0.000000\n"
     ]
    },
    {
     "data": {
      "image/png": "[encoded data removed]",
      "text/plain": [
       "<Figure size 1728x288 with 5 Axes>"
      ]
     },
     "metadata": {
      "needs_background": "light"
     },
     "output_type": "display_data"
    },
    {
     "name": "stdout",
     "output_type": "stream",
     "text": [
      "Feature: Media Skewness; kendalltau: rho = 0.32, p = 0.000000\n"
     ]
    },
    {
     "data": {
      "image/png": "[encoded data removed]",
      "text/plain": [
       "<Figure size 1728x288 with 5 Axes>"
      ]
     },
     "metadata": {
      "needs_background": "light"
     },
     "output_type": "display_data"
    },
    {
     "name": "stdout",
     "output_type": "stream",
     "text": [
      "Feature: Media Power; kendalltau: rho = -0.52, p = 0.000000\n"
     ]
    },
    {
     "data": {
      "image/png": "[encoded data removed]",
      "text/plain": [
       "<Figure size 1728x288 with 5 Axes>"
      ]
     },
     "metadata": {
      "needs_background": "light"
     },
     "output_type": "display_data"
    },
    {
     "name": "stdout",
     "output_type": "stream",
     "text": [
      "Feature: Intima Average of Top 5%; kendalltau: rho = 0.46, p = 0.000000\n"
     ]
    },
    {
     "data": {
      "image/png": "[encoded data removed]",
      "text/plain": [
       "<Figure size 1728x288 with 5 Axes>"
      ]
     },
     "metadata": {
      "needs_background": "light"
     },
     "output_type": "display_data"
    },
    {
     "name": "stdout",
     "output_type": "stream",
     "text": [
      "Feature: Intima Skewness; kendalltau: rho = -0.32, p = 0.000000\n"
     ]
    },
    {
     "data": {
      "image/png": "[encoded data removed]",
      "text/plain": [
       "<Figure size 1728x288 with 5 Axes>"
      ]
     },
     "metadata": {
      "needs_background": "light"
     },
     "output_type": "display_data"
    },
    {
     "name": "stdout",
     "output_type": "stream",
     "text": [
      "Feature: Intima Power; kendalltau: rho = 0.53, p = 0.000000\n"
     ]
    }
   ],
   "source": [
    "def heatmap_features(df_features_label, feature_name):\n",
    "    xticklabels = df_features_label.loc[:, \"WSI_Artery_ID\"].values\n",
    "    features = df_features_label.loc[:, feature_name].values\n",
    "    labels = df_features_label.loc[:, \"Label\"].values\n",
    "\n",
    "    fig = plt.figure(constrained_layout=True, figsize=(24, 4))\n",
    "    axs = fig.subplot_mosaic([['TopLeft', 'Right'],['BottomLeft', 'Right']],\n",
    "                              gridspec_kw={'width_ratios':[5, 1]})\n",
    "    \n",
    "    # heatmap\n",
    "    idx_sort = features.argsort()\n",
    "    sns.heatmap(features[idx_sort].reshape(1, -1), cbar=True, \n",
    "                cbar_kws = dict(use_gridspec=False,location=\"bottom\"), \n",
    "                ax=axs['TopLeft'])\n",
    "    axs['TopLeft'].set_xticks([])\n",
    "    axs['TopLeft'].set_yticks([])\n",
    "    axs['TopLeft'].set_ylabel(\"Feature\", fontsize=15)\n",
    "    sns.heatmap(labels[idx_sort].reshape(1, -1), cmap='gray', cbar=True, \n",
    "                cbar_kws = dict(use_gridspec=False,location=\"bottom\"), \n",
    "#                 xticklabels =xticklabels[idx_sort] ,\n",
    "                ax=axs['BottomLeft'])\n",
    "    axs['BottomLeft'].set_xticks([])\n",
    "    axs['BottomLeft'].set_yticks([])\n",
    "    axs['BottomLeft'].set_ylabel(\"Score\", fontsize=15)\n",
    "    idx_label_0 = labels==0\n",
    "    idx_label_1 = labels==1\n",
    "    idx_label_2 = labels==2\n",
    "    idx_label_3 = labels==3\n",
    "    \n",
    "    # box plot\n",
    "    features_label_0 = features[idx_label_0]\n",
    "    features_label_1 = features[idx_label_1]\n",
    "    features_label_2 = features[idx_label_2]\n",
    "    features_label_3 = features[idx_label_3]\n",
    "    axs['Right'].boxplot([features_label_0, features_label_1, features_label_2, features_label_3])\n",
    "    axs['Right'].set_xticklabels([0,1,2,3], fontsize=12)  \n",
    "    axs['Right'].tick_params(axis=\"y\", labelsize=12)\n",
    "    axs['Right'].set_xlabel(\"Arteriosclerosis Score\", fontsize=15)\n",
    "    axs['Right'].set_ylabel(\"Feature\", fontsize=15)\n",
    "    \n",
    "    # Kendall Tau\n",
    "    rho, p_val = scipy.stats.kendalltau(features, labels)\n",
    "    plt.show()\n",
    "    print('Feature: {}; kendalltau: rho = {:.2f}, p = {:.6f}'.format(feature_name, rho, p_val))\n",
    "    \n",
    "for col in [\"Media Average of Top 5%\", \"Media Skewness\", \"Media Power\", \n",
    "            \"Intima Average of Top 5%\", \"Intima Skewness\", \"Intima Power\"]:\n",
    "    heatmap_features(df_features_label, col)"
   ]
  },
  {
   "cell_type": "code",
   "execution_count": 40,
   "id": "5ab0a49b",
   "metadata": {},
   "outputs": [
    {
     "data": {
      "text/html": [
       "<div>\n",
       "<style scoped>\n",
       "    .dataframe tbody tr th:only-of-type {\n",
       "        vertical-align: middle;\n",
       "    }\n",
       "\n",
       "    .dataframe tbody tr th {\n",
       "        vertical-align: top;\n",
       "    }\n",
       "\n",
       "    .dataframe thead th {\n",
       "        text-align: right;\n",
       "    }\n",
       "</style>\n",
       "<table border=\"1\" class=\"dataframe\">\n",
       "  <thead>\n",
       "    <tr style=\"text-align: right;\">\n",
       "      <th></th>\n",
       "      <th>WSI_Artery_ID</th>\n",
       "      <th>Media Average of Top 5%</th>\n",
       "      <th>Media Skewness</th>\n",
       "      <th>Media Power</th>\n",
       "      <th>Intima Average of Top 5%</th>\n",
       "      <th>Intima Skewness</th>\n",
       "      <th>Intima Power</th>\n",
       "      <th>Label</th>\n",
       "    </tr>\n",
       "  </thead>\n",
       "  <tbody>\n",
       "    <tr>\n",
       "      <th>0</th>\n",
       "      <td>11_26609_023_512 L4 TRI_A15</td>\n",
       "      <td>0.944890</td>\n",
       "      <td>-0.735264</td>\n",
       "      <td>0.476863</td>\n",
       "      <td>0.794501</td>\n",
       "      <td>0.735264</td>\n",
       "      <td>0.153233</td>\n",
       "      <td>1.0</td>\n",
       "    </tr>\n",
       "    <tr>\n",
       "      <th>1</th>\n",
       "      <td>11_26609_000_013_L02 TRI_A06</td>\n",
       "      <td>0.598438</td>\n",
       "      <td>0.617807</td>\n",
       "      <td>0.116973</td>\n",
       "      <td>0.883658</td>\n",
       "      <td>-0.617807</td>\n",
       "      <td>0.466776</td>\n",
       "      <td>3.0</td>\n",
       "    </tr>\n",
       "    <tr>\n",
       "      <th>2</th>\n",
       "      <td>11_26609_023_512 L4 TRI_A06</td>\n",
       "      <td>0.774866</td>\n",
       "      <td>-1.437071</td>\n",
       "      <td>0.328156</td>\n",
       "      <td>0.950179</td>\n",
       "      <td>1.437071</td>\n",
       "      <td>0.245378</td>\n",
       "      <td>1.0</td>\n",
       "    </tr>\n",
       "    <tr>\n",
       "      <th>3</th>\n",
       "      <td>14_26609_040_021 L03 TRI_A01</td>\n",
       "      <td>0.691044</td>\n",
       "      <td>-0.280485</td>\n",
       "      <td>0.218889</td>\n",
       "      <td>0.881055</td>\n",
       "      <td>0.280485</td>\n",
       "      <td>0.350422</td>\n",
       "      <td>3.0</td>\n",
       "    </tr>\n",
       "    <tr>\n",
       "      <th>4</th>\n",
       "      <td>11_26609_027_005 L03 TRI_A08</td>\n",
       "      <td>0.870605</td>\n",
       "      <td>-1.066079</td>\n",
       "      <td>0.486147</td>\n",
       "      <td>0.664824</td>\n",
       "      <td>1.066079</td>\n",
       "      <td>0.115666</td>\n",
       "      <td>2.0</td>\n",
       "    </tr>\n",
       "    <tr>\n",
       "      <th>...</th>\n",
       "      <td>...</td>\n",
       "      <td>...</td>\n",
       "      <td>...</td>\n",
       "      <td>...</td>\n",
       "      <td>...</td>\n",
       "      <td>...</td>\n",
       "      <td>...</td>\n",
       "      <td>...</td>\n",
       "    </tr>\n",
       "    <tr>\n",
       "      <th>251</th>\n",
       "      <td>11_26609_020_006 A15 TRI_A20</td>\n",
       "      <td>0.610890</td>\n",
       "      <td>0.426680</td>\n",
       "      <td>0.159863</td>\n",
       "      <td>0.853372</td>\n",
       "      <td>-0.426680</td>\n",
       "      <td>0.426880</td>\n",
       "      <td>2.0</td>\n",
       "    </tr>\n",
       "    <tr>\n",
       "      <th>252</th>\n",
       "      <td>12_26609_022_018 L08 TRI_A05</td>\n",
       "      <td>0.710939</td>\n",
       "      <td>0.544369</td>\n",
       "      <td>0.336088</td>\n",
       "      <td>0.518656</td>\n",
       "      <td>-0.544369</td>\n",
       "      <td>0.182412</td>\n",
       "      <td>0.0</td>\n",
       "    </tr>\n",
       "    <tr>\n",
       "      <th>253</th>\n",
       "      <td>12_26609_022_015 L2 TRI_A12</td>\n",
       "      <td>0.904827</td>\n",
       "      <td>-0.066718</td>\n",
       "      <td>0.405581</td>\n",
       "      <td>0.775743</td>\n",
       "      <td>0.066718</td>\n",
       "      <td>0.222542</td>\n",
       "      <td>1.0</td>\n",
       "    </tr>\n",
       "    <tr>\n",
       "      <th>254</th>\n",
       "      <td>11_26609_098_005_L4 TRI_A01</td>\n",
       "      <td>0.840266</td>\n",
       "      <td>-0.837375</td>\n",
       "      <td>0.565063</td>\n",
       "      <td>0.429924</td>\n",
       "      <td>0.837375</td>\n",
       "      <td>0.067578</td>\n",
       "      <td>0.0</td>\n",
       "    </tr>\n",
       "    <tr>\n",
       "      <th>255</th>\n",
       "      <td>11_26609_020_006 A15 TRI_A27</td>\n",
       "      <td>0.250914</td>\n",
       "      <td>-0.159623</td>\n",
       "      <td>0.025276</td>\n",
       "      <td>0.947360</td>\n",
       "      <td>0.159623</td>\n",
       "      <td>0.725271</td>\n",
       "      <td>2.0</td>\n",
       "    </tr>\n",
       "  </tbody>\n",
       "</table>\n",
       "<p>256 rows × 8 columns</p>\n",
       "</div>"
      ],
      "text/plain": [
       "                    WSI_Artery_ID  Media Average of Top 5%  Media Skewness  \\\n",
       "0     11_26609_023_512 L4 TRI_A15                 0.944890       -0.735264   \n",
       "1    11_26609_000_013_L02 TRI_A06                 0.598438        0.617807   \n",
       "2     11_26609_023_512 L4 TRI_A06                 0.774866       -1.437071   \n",
       "3    14_26609_040_021 L03 TRI_A01                 0.691044       -0.280485   \n",
       "4    11_26609_027_005 L03 TRI_A08                 0.870605       -1.066079   \n",
       "..                            ...                      ...             ...   \n",
       "251  11_26609_020_006 A15 TRI_A20                 0.610890        0.426680   \n",
       "252  12_26609_022_018 L08 TRI_A05                 0.710939        0.544369   \n",
       "253   12_26609_022_015 L2 TRI_A12                 0.904827       -0.066718   \n",
       "254   11_26609_098_005_L4 TRI_A01                 0.840266       -0.837375   \n",
       "255  11_26609_020_006 A15 TRI_A27                 0.250914       -0.159623   \n",
       "\n",
       "     Media Power  Intima Average of Top 5%  Intima Skewness  Intima Power  \\\n",
       "0       0.476863                  0.794501         0.735264      0.153233   \n",
       "1       0.116973                  0.883658        -0.617807      0.466776   \n",
       "2       0.328156                  0.950179         1.437071      0.245378   \n",
       "3       0.218889                  0.881055         0.280485      0.350422   \n",
       "4       0.486147                  0.664824         1.066079      0.115666   \n",
       "..           ...                       ...              ...           ...   \n",
       "251     0.159863                  0.853372        -0.426680      0.426880   \n",
       "252     0.336088                  0.518656        -0.544369      0.182412   \n",
       "253     0.405581                  0.775743         0.066718      0.222542   \n",
       "254     0.565063                  0.429924         0.837375      0.067578   \n",
       "255     0.025276                  0.947360         0.159623      0.725271   \n",
       "\n",
       "     Label  \n",
       "0      1.0  \n",
       "1      3.0  \n",
       "2      1.0  \n",
       "3      3.0  \n",
       "4      2.0  \n",
       "..     ...  \n",
       "251    2.0  \n",
       "252    0.0  \n",
       "253    1.0  \n",
       "254    0.0  \n",
       "255    2.0  \n",
       "\n",
       "[256 rows x 8 columns]"
      ]
     },
     "execution_count": 40,
     "metadata": {},
     "output_type": "execute_result"
    }
   ],
   "source": [
    "df_features_label"
   ]
  },
  {
   "cell_type": "code",
   "execution_count": 15,
   "id": "a5381a85",
   "metadata": {},
   "outputs": [],
   "source": [
    "path_to_save = os.path.join(DIR_SAVE, \"features_label.csv\")\n",
    "df_features_label.to_csv(path_to_save, index=False)  \n",
    "    "
   ]
  },
  {
   "cell_type": "code",
   "execution_count": null,
   "id": "4e3b576d",
   "metadata": {},
   "outputs": [],
   "source": []
  },
  {
   "cell_type": "code",
   "execution_count": 16,
   "id": "783ddfd1",
   "metadata": {},
   "outputs": [],
   "source": [
    "# pd.set_option(\"display.precision\", 2)\n",
    "# to_present = [\"11_26609_027_006 L02 TRI_A07\", \"11_26609_009_008 L10 TRI_A01\",\n",
    "#              \"11_26609_098_005_L4 TRI_A09\", \"11_26609_020_006 A15 TRI_A22\"]\n",
    "\n",
    "# for wsi_id_present in to_present:\n",
    "#     print(df_features_label.loc[df_features_label.loc[:, \"WSI_Artery_ID\"]==wsi_id_present, :])\n",
    "#     print()"
   ]
  },
  {
   "cell_type": "code",
   "execution_count": 45,
   "id": "6d72d40c",
   "metadata": {},
   "outputs": [
    {
     "data": {
      "text/plain": [
       "Index(['WSI_Artery_ID', 'Media Average of Top 5%', 'Media Skewness',\n",
       "       'Media Power', 'Intima Average of Top 5%', 'Intima Skewness',\n",
       "       'Intima Power', 'Label'],\n",
       "      dtype='object')"
      ]
     },
     "execution_count": 45,
     "metadata": {},
     "output_type": "execute_result"
    }
   ],
   "source": [
    "df_features_label.columns"
   ]
  },
  {
   "cell_type": "code",
   "execution_count": 55,
   "id": "9452b252",
   "metadata": {
    "scrolled": true
   },
   "outputs": [
    {
     "name": "stdout",
     "output_type": "stream",
     "text": [
      "18 7 0 0\n",
      "9 1 0 1\n",
      "4 5 1 0\n",
      "4 27 19 5\n",
      "5 2 2 2\n",
      "4 8 16 5\n",
      "2 1 0 0\n",
      "5 9 2 0\n",
      "11 4 1 0\n",
      "8 1 0 0\n",
      "7 0 1 0\n",
      "0 5 3 0\n",
      "10 0 1 0\n",
      "6 0 0 0\n",
      "6 4 0 0\n",
      "10 0 0 0\n",
      "1 0 0 1\n",
      "3 1 0 0\n",
      "5 3 0 0\n"
     ]
    }
   ],
   "source": [
    "df_features_label.loc[:, \"WSI\"] = df_features_label.loc[:, \"WSI_Artery_ID\"].str.split('_A').str[0]\n",
    "WSI_IDs = np.unique(df_features_label.loc[:, \"WSI\"].values)\n",
    "for wsi in WSI_IDs:\n",
    "    labels = df_features_label.loc[df_features_label.loc[:, \"WSI\"]==wsi, \"Label\"].values\n",
    "    print((labels == 0).sum(), (labels == 1).sum(), (labels == 2).sum(), (labels == 3).sum())"
   ]
  },
  {
   "cell_type": "code",
   "execution_count": null,
   "id": "3cee9c19",
   "metadata": {},
   "outputs": [],
   "source": []
  }
 ],
 "metadata": {
  "kernelspec": {
   "display_name": "Python 3",
   "language": "python",
   "name": "python3"
  },
  "language_info": {
   "codemirror_mode": {
    "name": "ipython",
    "version": 3
   },
   "file_extension": ".py",
   "mimetype": "text/x-python",
   "name": "python",
   "nbconvert_exporter": "python",
   "pygments_lexer": "ipython3",
   "version": "3.6.13"
  }
 },
 "nbformat": 4,
 "nbformat_minor": 5
}
