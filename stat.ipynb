{
 "cells": [
  {
   "cell_type": "code",
   "execution_count": null,
   "id": "148ef57c",
   "metadata": {},
   "outputs": [],
   "source": [
    "#!/usr/bin/python\n",
    "# -*- coding: utf-8 -*-\n",
    "# import necessary packages\n",
    "\n",
    "import os\n",
    "import numpy as np\n",
    "import pandas as pd\n",
    "import cv2\n",
    "import shutil\n",
    "import ast\n",
    "import math\n",
    "\n",
    "import seaborn as sns\n",
    "from matplotlib import pyplot as plt\n",
    "\n",
    "from collections import defaultdict\n",
    "from scipy.signal import find_peaks\n",
    "import scipy\n",
    "from mrmr import mrmr_classif\n",
    "\n",
    "from sklearn.feature_selection import f_classif\n",
    "from extract_feature_utils import *\n",
    "from stat_vis_utils  import *\n",
    "from imblearn.over_sampling import SMOTE, RandomOverSampler\n",
    "from sklearn.metrics import confusion_matrix\n",
    "from sklearn.metrics import balanced_accuracy_score, cohen_kappa_score, accuracy_score\n",
    "\n",
    "from sklearn.linear_model import LogisticRegression\n",
    "from sklearn.neighbors import KNeighborsClassifier\n",
    "from sklearn import tree\n",
    "from sklearn import svm\n",
    "from sklearn.linear_model import Ridge\n",
    "from sklearn.ensemble import RandomForestClassifier\n",
    "# from rank import RankSVM"
   ]
  },
  {
   "cell_type": "code",
   "execution_count": null,
   "id": "5a8e8cee",
   "metadata": {},
   "outputs": [],
   "source": [
    "DIR_WSI = \"/Users/jinzhou/Desktop/Paper_MIA/data/wsi\"\n",
    "DIR_ANN = \"/Users/jinzhou/Desktop/Paper_MIA/data/ann_geojsons\"\n",
    "DIR_SAVE_RESULTS = \"/Users/jinzhou/Desktop/Paper_MIA/results\"\n",
    "DIR_SAVE_FIGURE = \"/Users/jinzhou/Desktop/Paper_MIA/results/figures\""
   ]
  },
  {
   "cell_type": "markdown",
   "id": "eed207ed",
   "metadata": {},
   "source": [
    "## Process thickness.csv"
   ]
  },
  {
   "cell_type": "code",
   "execution_count": null,
   "id": "5073a05a",
   "metadata": {},
   "outputs": [],
   "source": [
    "PATH_STAT_MANUAL = os.path.join(DIR_SAVE_RESULTS, \"thickness.json\")"
   ]
  },
  {
   "cell_type": "code",
   "execution_count": null,
   "id": "c8786e19",
   "metadata": {},
   "outputs": [],
   "source": [
    "# read thickness analysis\n",
    "def read_df_from_csv(path_csv):\n",
    "    df = pd.read_json(path_csv, orient=\"records\", lines=True)\n",
    "    return df\n",
    "\n",
    "def clean(df_thick):\n",
    "\n",
    "    df_thick.loc[:, 'Artery_ID'] = df_thick.loc[:, 'Artery_ID'].str.split('_').str[0]        \n",
    "    # Set and WSI_Artery_ID, ignoring media and intima index\n",
    "    df_thick.loc[:, 'WSI_Artery_ID'] = df_thick.loc[:, 'WSI_ID'] + '_' \\\n",
    "        + df_thick.loc[:, 'Artery_ID']\n",
    "    # For arteries with multiple lumen/intima areas, we pick the one with maxium lumen area\n",
    "#     df_thick = df_thick[df_thick.loc[:, \"WSI_Artery_ID\"]!=\"11_26609_027_005 L03 TRI_A17\"]        \n",
    "    return df_thick"
   ]
  },
  {
   "cell_type": "code",
   "execution_count": null,
   "id": "62acdc32",
   "metadata": {
    "scrolled": true
   },
   "outputs": [],
   "source": [
    "df_thick = read_df_from_csv(PATH_STAT_MANUAL)\n",
    "df_thick = clean(df_thick)\n",
    "df_thick.shape"
   ]
  },
  {
   "cell_type": "code",
   "execution_count": null,
   "id": "9bfd9bd8",
   "metadata": {},
   "outputs": [],
   "source": [
    "df_thick"
   ]
  },
  {
   "cell_type": "code",
   "execution_count": null,
   "id": "cf5d0eac",
   "metadata": {},
   "outputs": [],
   "source": [
    "# df_thick.loc[df_thick.loc[:, \"WSI_Artery_ID\"]==\"11_26609_027_005 L03 TRI_A17\", :]     "
   ]
  },
  {
   "cell_type": "markdown",
   "id": "8f0d7c19",
   "metadata": {},
   "source": [
    "## Process \"Labels.xlsx\""
   ]
  },
  {
   "cell_type": "code",
   "execution_count": null,
   "id": "e780ad0c",
   "metadata": {},
   "outputs": [],
   "source": [
    "PATH_LABEL_JEFF = \"/Users/jinzhou/Desktop/Paper_MIA/data/labels_jeff.csv\"\n",
    "PATH_LABEL_DAVID= \"/Users/jinzhou/Desktop/Paper_MIA/data/labels_david.csv\""
   ]
  },
  {
   "cell_type": "code",
   "execution_count": null,
   "id": "73639039",
   "metadata": {},
   "outputs": [],
   "source": [
    "df_label_jeff = pd.read_csv(PATH_LABEL_JEFF).set_index(\"Artery_ID\")\n",
    "df_label_david = pd.read_csv(PATH_LABEL_DAVID).set_index(\"Artery_ID\")"
   ]
  },
  {
   "cell_type": "code",
   "execution_count": null,
   "id": "342231de",
   "metadata": {
    "scrolled": true
   },
   "outputs": [],
   "source": [
    "df_thick = df_thick.loc[df_thick.loc[:, \"WSI_ID\"].isin(df_label_jeff.columns), :]\n",
    "print(df_thick.shape)"
   ]
  },
  {
   "cell_type": "code",
   "execution_count": null,
   "id": "ad8b3cff",
   "metadata": {},
   "outputs": [],
   "source": [
    "df_thick = df_thick.sort_values(['Curr_Area_Intima', 'Curr_Area_Lumen'], ascending=False)\n",
    "df_thick = df_thick.drop_duplicates(['WSI_Artery_ID'])"
   ]
  },
  {
   "cell_type": "code",
   "execution_count": null,
   "id": "013ff2b4",
   "metadata": {},
   "outputs": [],
   "source": [
    "print(df_thick.shape)"
   ]
  },
  {
   "cell_type": "code",
   "execution_count": null,
   "id": "66c9e779",
   "metadata": {
    "scrolled": false
   },
   "outputs": [],
   "source": [
    "# count = 0\n",
    "# for i, wsi_id in enumerate(df_label.columns):\n",
    "#     vals = df_label.loc[:, wsi_id].values\n",
    "#     count = count + np.sum(vals==0 )+ np.sum(vals==1) + np.sum(vals==2)+ np.sum(vals==3)\n",
    "#     print(\"WSI\"+str(i+1), np.sum(vals==0), np.sum(vals==1), np.sum(vals==2), np.sum(vals==3))"
   ]
  },
  {
   "cell_type": "markdown",
   "id": "ac11df52",
   "metadata": {},
   "source": [
    "## Post-Processing"
   ]
  },
  {
   "cell_type": "code",
   "execution_count": null,
   "id": "d74c832c",
   "metadata": {},
   "outputs": [],
   "source": [
    "def feature_extract_all(t_multi, t_open_lumen, t_mediam, t_average):\n",
    "\n",
    "    df_features_label = pd.DataFrame(columns = [])\n",
    "\n",
    "    for index, row in df_thick.iterrows(): \n",
    "\n",
    "        # get the img\n",
    "        path_artery_img = os.path.join(DIR_SAVE_FIGURE, row[\"WSI_ID\"], row[\"Artery_ID\"]+\".png\")\n",
    "#         artery_img = cv2.cvtColor(cv2.imread(path_artery_img), cv2.COLOR_BGR2RGB)\n",
    "\n",
    "        # get the measurements\n",
    "        thick_media = np.array(row[\"Thickness_Media\"])\n",
    "        thick_intima = np.array(row[\"Thickness_Intima\"])\n",
    "        thick_wall = np.array([x + y if x >= 0 else x for x, y in zip(thick_media, thick_intima)])\n",
    "\n",
    "    #     thick_wall = np.array(row[\"Thickness_Wall_Abs\"])\n",
    "        thick_media, thick_intima, thick_wall = post_process(thick_media, thick_intima, thick_wall, \n",
    "                                                            t_multi, t_open_lumen, t_mediam, t_average)\n",
    "#         if -2 in thick_wall or -3 in thick_wall: # open lumen or multiple lumen/intima\n",
    "#             continue\n",
    "#         if -2 not in thick_wall: # open lumen or multiple lumen/intima\n",
    "#             continue    \n",
    "    #     plot_hist_w_two_list(thick_media, thick_intima, \"Thickness\", None)\n",
    "        features_intima, features_media, features_ratio = extract_features(thick_media, thick_intima, thick_wall)\n",
    "        row_features_label = {**features_intima, **features_media, **features_ratio}\n",
    "        area_artery = row[\"Area_Media\"] + row[\"Area_Intima\"] + row[\"Area_Lumen\"]\n",
    "        row_features_label['Media Area'] = row[\"Area_Media\"] / area_artery\n",
    "        row_features_label['Intima Area'] = row[\"Area_Intima\"] / area_artery\n",
    "        row_features_label['Lumen Area'] = row[\"Area_Lumen\"] / area_artery\n",
    "        row_features_label['Ratio Intima/Media Area'] = row[\"Area_Intima\"] / (row[\"Area_Media\"] + row[\"Area_Intima\"])\n",
    "        row_features_label[\"WSI_ID\"] = row[\"WSI_ID\"]\n",
    "        row_features_label[\"WSI_Artery_ID\"] = row[\"WSI_Artery_ID\"]\n",
    "        \n",
    "        if row[\"WSI_ID\"] in df_label_david.columns:\n",
    "            label_david = df_label_david.loc[row[\"Artery_ID\"], row[\"WSI_ID\"]]\n",
    "            label_jeff = df_label_jeff.loc[row[\"Artery_ID\"], row[\"WSI_ID\"]]\n",
    "            if math.isnan(label_david) or math.isnan(label_jeff):\n",
    "                print(\"Warning\", label_david, label_jeff)\n",
    "                continue\n",
    "            row_features_label[\"Label\"] = label_jeff\n",
    "            row_features_label[\"Label_Ref\"] = label_david\n",
    "        else:\n",
    "            label_jeff = df_label_jeff.loc[row[\"Artery_ID\"], row[\"WSI_ID\"]]\n",
    "            if math.isnan(label_jeff):\n",
    "                continue\n",
    "            row_features_label[\"Label\"] = label_jeff    \n",
    "        df_features_label = df_features_label.append(row_features_label, ignore_index=True)    \n",
    "    return df_features_label"
   ]
  },
  {
   "cell_type": "code",
   "execution_count": null,
   "id": "21ba9e16",
   "metadata": {},
   "outputs": [],
   "source": [
    "curr_max = 0\n",
    "max_combo = []\n",
    "t_open_lumen = 21\n",
    "t_mediam = 11\n",
    "t_average = 11\n",
    "t_multi = 21\n",
    "\n",
    "df_features_label = feature_extract_all(t_multi, t_open_lumen, t_mediam, t_average)"
   ]
  },
  {
   "cell_type": "code",
   "execution_count": null,
   "id": "84151442",
   "metadata": {
    "scrolled": false
   },
   "outputs": [],
   "source": [
    "# df_features_label =  df_features_label.loc[~df_features_label.loc[:, \"Label\"].isna(), :]\n",
    "print(df_features_label.shape)"
   ]
  },
  {
   "cell_type": "markdown",
   "id": "e84fc991",
   "metadata": {},
   "source": [
    "## Boxtplot and Kendall Tau Analysis"
   ]
  },
  {
   "cell_type": "code",
   "execution_count": null,
   "id": "1e05a62c",
   "metadata": {},
   "outputs": [],
   "source": [
    "def violin_plots(df_features_label, feature_names):\n",
    "    fig = plt.figure(figsize=(5*len(feature_names), 5))\n",
    "    axs = fig.subplots(1, len(feature_names)//1)\n",
    "    rhos = []\n",
    "    for i, feature_name in enumerate(feature_names):\n",
    "        ax_i = axs[i]\n",
    "\n",
    "        features = df_features_label.loc[:, feature_name].values\n",
    "        idx_sort = features.argsort()\n",
    "        features[features>features[idx_sort][-30]] = features[idx_sort][-30]\n",
    "\n",
    "        labels = df_features_label.loc[:, \"Label\"].values\n",
    "        features_label_0 = features[labels==0]\n",
    "        features_label_1 = features[labels==1]\n",
    "        features_label_2 = features[labels==2]\n",
    "        features_label_3 = features[labels==3]\n",
    "        \n",
    "        rho, p_val = scipy.stats.kendalltau(features, labels)\n",
    "        rhos.append(rho)\n",
    "        data = pd.DataFrame({'Score': labels, 'Feature Value': features})\n",
    "#         sns.boxplot(x='Score', y='Feature Value', data=data, ax=ax_i)\n",
    "        sns.violinplot(x='Score', y='Feature Value', data=data, ax=ax_i)\n",
    "        ax_i.set_xlabel(\"Arteriosclerosis Score\", fontsize=15)\n",
    "        if i == 0:\n",
    "            ax_i.set_ylabel(\"Feature Value\", fontsize=15)\n",
    "        else:\n",
    "            ax_i.set_ylabel(None)\n",
    "        ax_i.set_xlabel(\"Arteriosclerosis Score\", fontsize=15)\n",
    "        ax_i.set_title( feature_name + \"\\n\" + r\"$\\gamma_{\\tau}$\" + \"={:.2f}\".format(rho) + \" p<0.0001\",\n",
    "                         y=-0.4,pad=-14, fontsize=18)\n",
    "    plt.tight_layout()\n",
    "    plt.show()\n",
    "    return rhos"
   ]
  },
  {
   "cell_type": "code",
   "execution_count": null,
   "id": "28a77ce6",
   "metadata": {},
   "outputs": [],
   "source": [
    "feature_names = [x for x in df_features_label.columns if x not in [\"WSI_Artery_ID\", \"Label\"] ]\n",
    "media_features = [x for x in feature_names if x.startswith(\"Media\")]\n",
    "intima_features  = [x for x in feature_names if x.startswith(\"Intima\")]\n",
    "ratio_features  = [x for x in feature_names if x.startswith(\"Ratio\")]"
   ]
  },
  {
   "cell_type": "code",
   "execution_count": null,
   "id": "05a1ac8b",
   "metadata": {
    "scrolled": false
   },
   "outputs": [],
   "source": [
    "_ = violin_plots(df_features_label, intima_features[4:6])\n",
    "_ = violin_plots(df_features_label, media_features[4:6])\n",
    "_ =violin_plots(df_features_label, ratio_features[4:6])"
   ]
  },
  {
   "cell_type": "code",
   "execution_count": null,
   "id": "817b9868",
   "metadata": {
    "scrolled": true
   },
   "outputs": [],
   "source": [
    "df_features_label.columns"
   ]
  },
  {
   "cell_type": "code",
   "execution_count": null,
   "id": "9146cd0a",
   "metadata": {
    "scrolled": true
   },
   "outputs": [],
   "source": [
    "def get_clf(ml_method):    \n",
    "    if ml_method == 'lr':\n",
    "        clf = LogisticRegression(random_state=0, max_iter=1000)\n",
    "#         clf = Ridge(random_state=0, max_iter=1000)\n",
    "    elif ml_method == 'svm':\n",
    "        clf = svm.SVC(decision_function_shape='ovo')\n",
    "    elif ml_method == 'dt':\n",
    "        clf = tree.DecisionTreeClassifier(random_state=0, max_depth=3)\n",
    "    elif ml_method == 'knn':\n",
    "        clf = KNeighborsClassifier(n_neighbors=10)\n",
    "    return clf"
   ]
  },
  {
   "cell_type": "code",
   "execution_count": null,
   "id": "39ddd48b",
   "metadata": {},
   "outputs": [],
   "source": [
    "def train_eval(df_features_label, features, wsi_ids_train, wsi_ids_test, ref=False):\n",
    "    df_features_label_train = df_features_label.loc[df_features_label.loc[:, \"WSI_ID\"].isin(wsi_ids_train), :]\n",
    "    df_features_label_test = df_features_label.loc[df_features_label.loc[:, \"WSI_ID\"].isin(wsi_ids_test), :]\n",
    "#     df_features_label_test =  df_features_label_test.loc[~df_features_label_test.loc[:, \"Label\"].isna(), :]\n",
    "\n",
    "#         features = df_features_label_train.columns[:-8].values\n",
    "\n",
    "    selected_features = mrmr_classif(X=df_features_label_train.loc[:, features], \n",
    "                                 y=df_features_label_train.loc[:, \"Label\"], K=4)\n",
    "    print(selected_features)\n",
    "#     selected_features = features\n",
    "\n",
    "\n",
    "    X_train = df_features_label_train.loc[:, selected_features].values\n",
    "    y_train = df_features_label_train.loc[:, \"Label\"].values\n",
    "\n",
    "    X_test = df_features_label_test.loc[:, selected_features].values\n",
    "    y_test = df_features_label_test.loc[:, \"Label\"].values\n",
    "    \n",
    "\n",
    "#     print(X_test.shape)\n",
    "\n",
    "    y_test_id = df_features_label_test.loc[:, \"WSI_Artery_ID\"].values\n",
    "\n",
    "    sm = RandomOverSampler(random_state=0)\n",
    "    X_train_res, y_train_res  = sm.fit_resample(X_train, y_train)\n",
    "#     X_train_res, y_train_res = X_train, y_train\n",
    "    # clf = RankSVM()\n",
    "    clf = get_clf('lr')\n",
    "    clf = clf.fit(X_train_res, y_train_res)\n",
    "    y_pred = clf.predict(X_test)\n",
    "\n",
    "    if ref is True:\n",
    "        y_test = df_features_label_test.loc[:, \"Label_Ref\"].values\n",
    "        \n",
    "#     print(scipy.stats.kendalltau(y_pred, y_test), balanced_accuracy_score(y_test, y_pred))\n",
    "    return y_test, y_pred\n",
    "#     print(cohen_kappa_score(y_pred, y_test))\n"
   ]
  },
  {
   "cell_type": "code",
   "execution_count": null,
   "id": "6bd9c191",
   "metadata": {},
   "outputs": [],
   "source": [
    "wsi_ids = np.unique(df_features_label.loc[:, \"WSI_ID\"].values)"
   ]
  },
  {
   "cell_type": "code",
   "execution_count": null,
   "id": "8d637e35",
   "metadata": {
    "scrolled": false
   },
   "outputs": [],
   "source": [
    "from sklearn.model_selection import KFold\n",
    "def cross_val(df_features_label, features):\n",
    "    kf = KFold(n_splits=4)\n",
    "    kf.get_n_splits(wsi_ids)\n",
    "    for i, (train_index, test_index) in enumerate(kf.split(wsi_ids)):\n",
    "        wsi_ids_train = wsi_ids[train_index]\n",
    "        wsi_ids_test = wsi_ids[test_index]\n",
    "        _, _ = train_eval(df_features_label, features, wsi_ids_train, wsi_ids_test)"
   ]
  },
  {
   "cell_type": "code",
   "execution_count": null,
   "id": "9b14ca7b",
   "metadata": {
    "scrolled": false
   },
   "outputs": [],
   "source": [
    "features = df_features_label.columns[:-8].values\n",
    "print(features)\n",
    "cross_val(df_features_label, features)"
   ]
  },
  {
   "cell_type": "code",
   "execution_count": null,
   "id": "293305ad",
   "metadata": {},
   "outputs": [],
   "source": [
    "features = df_features_label.columns[-8:-4].values\n",
    "print(features)\n",
    "cross_val(df_features_label, features)"
   ]
  },
  {
   "cell_type": "code",
   "execution_count": null,
   "id": "aaf91286",
   "metadata": {},
   "outputs": [],
   "source": [
    "features = df_features_label.columns[:-4].values\n",
    "print(features)\n",
    "cross_val(df_features_label, features)"
   ]
  },
  {
   "cell_type": "code",
   "execution_count": null,
   "id": "83f59ec8",
   "metadata": {},
   "outputs": [],
   "source": [
    "# wsi_ids_test = df_label_david.columns.values\n",
    "# wsi_ids_test"
   ]
  },
  {
   "cell_type": "code",
   "execution_count": null,
   "id": "823f966a",
   "metadata": {},
   "outputs": [],
   "source": [
    "wsi_ids_test =['015_TRI_235805', '16-010-02_TRI_11632_copy',\n",
    "       '16-032-02_TRI_11628_copy', '2_4827_A_0045173', '2_4839_A_0039862',\n",
    "       '2_4841_A_0045207', '2_6063_A_0045151', '2_6094_A_0039851',\n",
    "       '2_6097_A_0045196', '2_6128_A_0037277', '2_6130_A_0037288']\n",
    "\n",
    "wsi_ids_train = [x for x in wsi_ids.tolist() if x not in wsi_ids_test]"
   ]
  },
  {
   "cell_type": "code",
   "execution_count": null,
   "id": "30f604e9",
   "metadata": {},
   "outputs": [],
   "source": [
    "import itertools\n",
    "def plot_confusion_matrix(y_true, label_true, y_pred, label_pred, target_names=None, path_to_save=None):\n",
    "\n",
    "    cm = confusion_matrix(y_true, y_pred)\n",
    "    cmap = plt.get_cmap('Blues')\n",
    "    fig, ax  = plt.subplots(figsize=(7, 6))\n",
    "    plt.imshow(cm, interpolation='nearest', cmap=cmap)\n",
    "    plt.colorbar()\n",
    "\n",
    "    if target_names is not None:\n",
    "        tick_marks = np.arange(len(target_names))\n",
    "        plt.xticks(tick_marks, target_names, rotation=45, fontsize=25)\n",
    "        plt.yticks(tick_marks, target_names, fontsize=25)\n",
    "\n",
    "    thresh = cm.max() / 2\n",
    "    for i, j in itertools.product(range(cm.shape[0]), range(cm.shape[1])):\n",
    "        plt.text(j, i, \"{:,}\".format(cm[i, j]),\n",
    "                 horizontalalignment=\"center\",\n",
    "                 color=\"white\" if cm[i, j] > thresh else \"black\", fontsize=25)\n",
    "\n",
    "    plt.ylabel(label_true, fontsize=25)\n",
    "    plt.xlabel(label_pred, fontsize=25)\n",
    "    plt.tight_layout()\n",
    "    if path_to_save:\n",
    "        path_fig = os.path.join(path_to_save)\n",
    "        plt.savefig(path_fig)\n",
    "\n"
   ]
  },
  {
   "cell_type": "code",
   "execution_count": null,
   "id": "c72ade6e",
   "metadata": {
    "scrolled": true
   },
   "outputs": [],
   "source": [
    "features = df_features_label.columns[:-8].values\n",
    "y_test, y_pred = train_eval(df_features_label, features, wsi_ids_train, wsi_ids_test)\n",
    "y_test_ref, y_pred = train_eval(df_features_label, features, wsi_ids_train, wsi_ids_test, ref=True)\n",
    "\n",
    "\n",
    "plot_confusion_matrix(y_test, \"Pathologist A\", y_pred, \"Prediction\", [0, 1, 2, 3])\n",
    "plot_confusion_matrix(y_test_ref, \"Pathologist B\", y_pred, \"Prediction\", [0, 1, 2, 3])\n",
    "plot_confusion_matrix(y_test, \"Pathologist A\", y_test_ref, \"Pathologist B\", [0, 1, 2, 3])"
   ]
  },
  {
   "cell_type": "code",
   "execution_count": null,
   "id": "ade29259",
   "metadata": {
    "scrolled": true
   },
   "outputs": [],
   "source": [
    "features = df_features_label.columns[:-4].values\n",
    "y_test, y_pred = train_eval(df_features_label, features, wsi_ids_train, wsi_ids_test)\n",
    "y_test_ref, y_pred = train_eval(df_features_label, features, wsi_ids_train, wsi_ids_test, ref=True)\n",
    "\n",
    "\n",
    "plot_confusion_matrix(y_test, \"Pathologist A\", y_pred, \"Prediction\", [0, 1, 2, 3])\n",
    "plot_confusion_matrix(y_test_ref, \"Pathologist B\", y_pred, \"Prediction\", [0, 1, 2, 3])\n",
    "plot_confusion_matrix(y_test, \"Pathologist A\", y_test_ref, \"Pathologist B\", [0, 1, 2, 3])"
   ]
  },
  {
   "cell_type": "code",
   "execution_count": null,
   "id": "5a96321d",
   "metadata": {
    "scrolled": true
   },
   "outputs": [],
   "source": [
    "features = df_features_label.columns[-8:-4].values\n",
    "y_test, y_pred = train_eval(df_features_label, features, wsi_ids_train, wsi_ids_test)\n",
    "y_test_ref, y_pred = train_eval(df_features_label, features, wsi_ids_train, wsi_ids_test, ref=True)\n",
    "\n",
    "\n",
    "plot_confusion_matrix(y_test, \"Pathologist A\", y_pred, \"Prediction\", [0, 1, 2, 3])\n",
    "plot_confusion_matrix(y_test_ref, \"Pathologist B\", y_pred, \"Prediction\", [0, 1, 2, 3])\n",
    "plot_confusion_matrix(y_test, \"Pathologist A\", y_test_ref, \"Pathologist B\", [0, 1, 2, 3])"
   ]
  },
  {
   "cell_type": "code",
   "execution_count": null,
   "id": "30260eaf",
   "metadata": {},
   "outputs": [],
   "source": [
    "X_train = df_features_label_train.loc[:, selected_features].values\n",
    "y_train = df_features_label_train.loc[:, \"Label\"].values\n",
    "\n",
    "X_test = df_features_label_test.loc[:, selected_features].values\n",
    "y_test = df_features_label_test.loc[:, \"Label\"].values\n",
    "y_test_david = df_features_label_test.loc[:, \"Label_David\"].values\n",
    "\n",
    "y_test_id = df_features_label_test.loc[:, \"WSI_Artery_ID\"].values"
   ]
  },
  {
   "cell_type": "code",
   "execution_count": null,
   "id": "555de414",
   "metadata": {
    "scrolled": true
   },
   "outputs": [],
   "source": [
    "# from sklearn.model_selection import cross_val_score\n",
    "\n",
    "# for ml in ['lr', 'svm', 'dt', 'knn']:\n",
    "#     sm = RandomOverSampler(random_state=0)\n",
    "# #     X_train_res, y_train_res  = sm.fit_resample(X_train, y_train)\n",
    "# #     X_train_res, y_train_res = X_train, y_train\n",
    "#     clf = get_clf(ml)\n",
    "# #     clf = clf.fit(X_train_res, y_train_res)\n",
    "# #     y_pred = clf.predict(X_test)\n",
    "# #     print(cohen_kappa_score(y_test, y_pred))\n",
    "#     print(cross_val_score(clf, X_train, y_train, cv=2))"
   ]
  },
  {
   "cell_type": "code",
   "execution_count": null,
   "id": "9a5c7fd3",
   "metadata": {
    "scrolled": true
   },
   "outputs": [],
   "source": [
    "from sklearn.tree import DecisionTreeClassifier\n",
    "from sklearn.linear_model import LogisticRegression\n",
    "from sklearn.neighbors import KNeighborsClassifier\n",
    "from rank import RankSVM\n",
    "sm = RandomOverSampler(random_state=0)\n",
    "X_train_res, y_train_res  = sm.fit_resample(X_train, y_train)\n",
    "# X_train_res, y_train_res = X_train, y_train\n",
    "# clf = RankSVM()\n",
    "clf = get_clf('lr')\n",
    "clf = clf.fit(X_train_res, y_train_res)\n",
    "y_pred = clf.predict(X_test)"
   ]
  },
  {
   "cell_type": "code",
   "execution_count": null,
   "id": "b94582fb",
   "metadata": {
    "scrolled": false
   },
   "outputs": [],
   "source": [
    "print(confusion_matrix(y_test, y_pred))\n",
    "print(scipy.stats.kendalltau(y_pred, y_test))\n",
    "print(cohen_kappa_score(y_pred, y_test))"
   ]
  },
  {
   "cell_type": "code",
   "execution_count": null,
   "id": "f7d3cfb8",
   "metadata": {},
   "outputs": [],
   "source": [
    "print(confusion_matrix(y_test_david, y_pred))\n",
    "print(scipy.stats.kendalltau(y_pred, y_test_david))\n",
    "print(cohen_kappa_score(y_pred, y_test_david))"
   ]
  },
  {
   "cell_type": "code",
   "execution_count": null,
   "id": "828c984d",
   "metadata": {},
   "outputs": [],
   "source": [
    "print(confusion_matrix(y_test, y_test_david))\n",
    "print(scipy.stats.kendalltau(y_test_david, y_test))\n",
    "print(cohen_kappa_score(y_test_david, y_test))"
   ]
  },
  {
   "cell_type": "code",
   "execution_count": null,
   "id": "3d84331a",
   "metadata": {},
   "outputs": [],
   "source": [
    "wsi_ids_test = [ '16-032-02_TRI_11628_copy', '2_4827_A_0045173', '2_4839_A_0039862',\n",
    "                 '2_4841_A_0045207', '2_6063_A_0045151',\n",
    "                 '2_6097_A_0045196', '2_6128_A_0037277', '2_6130_A_0037288']\n",
    "\n",
    "# wsi_ids_test = [\n",
    "#                  '2_4827_A_0045173', '2_4839_A_0039862', '2_4841_A_0045207', '2_6063_A_0045151', \n",
    "#                  '2_6094_A_0039851', '2_6097_A_0045196', '2_6128_A_0037277', '2_6130_A_0037288', ]\n",
    "\n",
    "for wsi_id in wsi_ids_test:\n",
    "#     df_features_label_train = df_features_label.loc[~df_features_label.loc[:, \"WSI_ID\"].isin([wsi_id]), :]\n",
    "    df_features_label_test = df_features_label.loc[df_features_label.loc[:, \"WSI_ID\"].isin([wsi_id]), :]\n",
    "    df_features_label_test =  df_features_label_test.loc[~df_features_label_test.loc[:, \"Label_David\"].isna(), :]\n",
    "    X_test = df_features_label_test.loc[:, selected_features].values\n",
    "    y_test = df_features_label_test.loc[:, \"Label\"].values\n",
    "    y_test_david = df_features_label_test.loc[:, \"Label_David\"].values\n",
    "    y_pred = clf.predict(X_test)\n",
    "    print(cohen_kappa_score(y_pred, y_test_david), cohen_kappa_score(y_pred, y_test), \n",
    "          cohen_kappa_score(y_test, y_test_david))\n"
   ]
  },
  {
   "cell_type": "code",
   "execution_count": null,
   "id": "946c9491",
   "metadata": {},
   "outputs": [],
   "source": [
    "for i in range(len(y_test)):\n",
    "    if y_test[i]==0 and y_pred[i]==3:\n",
    "        print(i, y_test_id[i])"
   ]
  },
  {
   "cell_type": "code",
   "execution_count": null,
   "id": "9628b737",
   "metadata": {},
   "outputs": [],
   "source": []
  },
  {
   "cell_type": "code",
   "execution_count": null,
   "id": "9e69d086",
   "metadata": {},
   "outputs": [],
   "source": [
    "len(y_test)"
   ]
  },
  {
   "cell_type": "code",
   "execution_count": null,
   "id": "1f01f091",
   "metadata": {},
   "outputs": [],
   "source": [
    "scipy.stats.kendalltau(y_pred, y_test)"
   ]
  },
  {
   "cell_type": "code",
   "execution_count": null,
   "id": "ef6407ca",
   "metadata": {},
   "outputs": [],
   "source": [
    "# y_train = y_train.copy()\n",
    "# y_train[y_train>=1] = 1\n",
    "# y_test= y_test.copy()\n",
    "\n",
    "# y_test[y_test>=1] = 1\n",
    "# X_train_res, y_train_res = X_train, y_train\n",
    "# # clf = RankSVM()\n",
    "# clf = get_clf('lr')\n",
    "# clf = clf.fit(X_train_res, y_train_res)\n",
    "# y_pred = clf.predict(X_test)\n",
    "# confusion_matrix(y_test, y_pred)"
   ]
  },
  {
   "cell_type": "code",
   "execution_count": null,
   "id": "6b523bde",
   "metadata": {},
   "outputs": [],
   "source": [
    "cohen_kappa_score(y_test, y_pred)"
   ]
  },
  {
   "cell_type": "code",
   "execution_count": null,
   "id": "68f19cb7",
   "metadata": {},
   "outputs": [],
   "source": [
    "# df_features_label.loc[df_features_label.loc[:, \"Label\"]==0].sort_values(\"Ratio Average\")[-20:]"
   ]
  },
  {
   "cell_type": "code",
   "execution_count": null,
   "id": "40b75e01",
   "metadata": {
    "scrolled": false
   },
   "outputs": [],
   "source": [
    "# features_compare = [\"Intima Average\", \"Media Peak Height\", \"Ratio Peak Prominence\"]\n",
    "# violin_plots(df_features_label, features_compare)"
   ]
  },
  {
   "cell_type": "code",
   "execution_count": null,
   "id": "1fae635e",
   "metadata": {},
   "outputs": [],
   "source": [
    "# df_features_label.loc[:, \"WSI_Artery_ID\"].str.split('_')"
   ]
  },
  {
   "cell_type": "code",
   "execution_count": null,
   "id": "f0d6fa06",
   "metadata": {
    "scrolled": true
   },
   "outputs": [],
   "source": [
    "# wsi_artery_ids_hist_comp = [\"11_26609_027_006 L02 TRI_A07\", \"11_26609_009_008 L10 TRI_A01\",\n",
    "#                             \"11_26609_098_005_L4 TRI_A09\", \"11_26609_020_006 A15 TRI_A22\"]\n",
    "\n",
    "# dir_to_save = \"/Users/jinzhou/Desktop/Paper_MIA/paper/figs\"\n",
    "# for wsi_artery_id in wsi_artery_ids_hist_comp:\n",
    "#     row = df_thick.loc[df_thick.loc[:, \"WSI_Artery_ID\"]==wsi_artery_id, :]\n",
    "#     path_artery_img = os.path.join(DIR_SAVE_FIGURE, row[\"WSI_ID\"].values[0], row[\"Artery_ID\"].values[0]+\".png\")\n",
    "#     thick_media = row[\"Thickness_Media\"].values[0]\n",
    "#     thick_intima = row[\"Thickness_Intima\"].values[0]\n",
    "#     thick_wall = np.array([x + y if x >= 0 else x for x, y in zip(thick_media, thick_intima)])\n",
    "#     thick_media, thick_intima, thick_wall = post_process(thick_media, thick_intima, thick_wall)\n",
    "#     label = df_label.loc[row[\"Artery_ID\"], row[\"WSI_ID\"]].values[0][0]\n",
    "#     path_to_save = os.path.join(dir_to_save, wsi_artery_id+\"_hist_score_\"+str(int(label))+\".png\")\n",
    "#     print(path_to_save, label)\n",
    "#     plot_hist_w_two_list(thick_media, thick_intima, \"Thickness\", path_to_save)\n",
    "#     shutil.copy(path_artery_img, os.path.join(dir_to_save, wsi_artery_id+\".png\"))"
   ]
  },
  {
   "cell_type": "code",
   "execution_count": null,
   "id": "5da2d0c2",
   "metadata": {
    "scrolled": true
   },
   "outputs": [],
   "source": [
    "# wsi_artery_ids_hist_comp = [\"11_26609_027_006 L02 TRI_A07\", \"11_26609_009_008 L10 TRI_A01\",\n",
    "#                             \"11_26609_098_005_L4 TRI_A09\", \"11_26609_020_006 A15 TRI_A22\"]\n",
    "# wsi_artery_ids_hist_comp = df_thick.loc[:, \"WSI_Artery_ID\"].values\n",
    "# dir_to_save = \"/Users/jinzhou/Desktop/Paper_MIA/paper/figs\"\n",
    "# for wsi_artery_id in wsi_artery_ids_hist_comp:\n",
    "#     row = df_thick.loc[df_thick.loc[:, \"WSI_Artery_ID\"]==wsi_artery_id, :]\n",
    "#     label = df_label.loc[row[\"Artery_ID\"], row[\"WSI_ID\"]].values[0][0]\n",
    "#     if label < 2: continue\n",
    "\n",
    "#     path_artery_img = os.path.join(DIR_SAVE_FIGURE, row[\"WSI_ID\"].values[0], row[\"Artery_ID\"].values[0]+\".png\")\n",
    "#     artery_img = cv2.cvtColor(cv2.imread(path_artery_img), cv2.COLOR_BGR2RGB)\n",
    "#     thick_media = row[\"Thickness_Media\"].values[0]\n",
    "#     thick_intima = row[\"Thickness_Intima\"].values[0]\n",
    "#     thick_wall = np.array([x + y if x >= 0 else x for x, y in zip(thick_media, thick_intima)])\n",
    "#     thick_media, thick_intima, thick_wall = post_process(thick_media, thick_intima, thick_wall)\n",
    "#     path_to_save = None\n",
    "#     print(wsi_artery_id, label)\n",
    "#     plt.imshow(artery_img)\n",
    "#     plt.show()\n",
    "#     plot_hist_w_two_list(thick_media, thick_intima, \"Thickness\", path_to_save)\n",
    "# #     shutil.copy(path_artery_img, os.path.join(dir_to_save, wsi_artery_id+\".png\"))"
   ]
  },
  {
   "cell_type": "code",
   "execution_count": null,
   "id": "ec5678ab",
   "metadata": {
    "scrolled": false
   },
   "outputs": [],
   "source": [
    "wsi_artery_ids_hist_comp = df_features_label.loc[df_features_label.loc[:, \"Label\"]==1].sort_values(\"Intima Peak Height\")[-20:].loc[:, \"WSI_Artery_ID\"].values"
   ]
  },
  {
   "cell_type": "code",
   "execution_count": null,
   "id": "e52852d6",
   "metadata": {
    "scrolled": false
   },
   "outputs": [],
   "source": [
    "# wsi_artery_ids_hist_comp = [\"KL-0023191_L03_TRIS_272723_A05\", \"11_26609_027_006 L02 TRI_A09\"]\n",
    "wsi_artery_ids_hist_comp = [\"11_26609_009_008 L10 TRI_A47\"]\n",
    "\n",
    "dir_to_save = \"/Users/jinzhou/Desktop/Paper_MIA/paper/figs\"\n",
    "for wsi_artery_id in wsi_artery_ids_hist_comp:\n",
    "    row = df_thick.loc[df_thick.loc[:, \"WSI_Artery_ID\"]==wsi_artery_id, :]\n",
    "    path_artery_img = os.path.join(DIR_SAVE_FIGURE, row[\"WSI_ID\"].values[0], row[\"Artery_ID\"].values[0]+\".png\")\n",
    "#     artery_img = cv2.cvtColor(cv2.imread(path_artery_img), cv2.COLOR_BGR2RGB)\n",
    "    \n",
    "    thick_media = row[\"Thickness_Media\"].values[0]\n",
    "    thick_intima = row[\"Thickness_Intima\"].values[0]\n",
    "#     plot_two_in_one_col(thick_media, thick_intima, y_label=True)\n",
    "    thick_wall = np.array([x + y if x >= 0 else x for x, y in zip(thick_media, thick_intima)])\n",
    "    thick_media, thick_intima, thick_wall = post_process(thick_media, thick_intima, thick_wall, t_multi, t_open_lumen, t_mediam, t_average)\n",
    "    label = df_label.loc[row[\"Artery_ID\"], row[\"WSI_ID\"]].values[0][0]\n",
    "    thick_media, thick_intima, thick_wall = post_process(thick_media, thick_intima, thick_wall, t_multi, t_open_lumen, t_mediam, t_average)\n",
    "    p_idx_medias, peak_prop_media = circular_peaks(np.array([x if x >=0 else np.nan for x in thick_media]), width_threshold=15)\n",
    "    p_idx_media = p_idx_medias[np.argmax(peak_prop_media[\"peak_heights\"])]\n",
    "    p_idx_intimas, peak_prop_intima = circular_peaks(np.array([x if x >=0 else np.nan for x in thick_intima]), width_threshold=15)\n",
    "    p_idx_intima = p_idx_intimas[np.argmax(peak_prop_intima[\"peak_heights\"])]\n",
    "    print(p_idx_intima)\n",
    "    path_to_save = None\n",
    "#     plt.imshow(artery_img)\n",
    "#     plt.show()\n",
    "    path_to_save = os.path.join(dir_to_save, wsi_artery_id+\"_plot_score_\"+str(int(label))+\".png\")\n",
    "    plot_hist_w_two_list(thick_media, thick_intima, \"Thickness\", None)\n",
    "#     plot_hist_w_two_list(thick_media, thick_intima, \"Thickness\", path_to_save)\n",
    "    plot_two_in_one_col(thick_media, thick_intima, y_label=True)\n",
    "#     plot_two_in_one_col(thick_media, thick_intima, y_label=True, p_idx_intima=[p_idx_intima], p_idx_media=[p_idx_media], path_to_save=path_to_save)\n",
    "\n",
    "    print(df_features_label.loc[df_features_label.loc[:, \"WSI_Artery_ID\"]==wsi_artery_id, :])"
   ]
  },
  {
   "cell_type": "code",
   "execution_count": null,
   "id": "c9e72399",
   "metadata": {},
   "outputs": [],
   "source": [
    "def plot_two_in_one_col(thick_media, thick_intima, y_label=True, p_idx_intima=None, p_idx_media=None, path_to_save=None):\n",
    "    \n",
    "    ratio = [x/y for x, y in zip(thick_intima, thick_media)]\n",
    "    plt.figure(figsize=(10, 5)) \n",
    "    plt.plot([x if x>=0 else None for x in thick_media], label=\"Media\")\n",
    "    plt.plot([x if x>=0 else None for x in thick_intima], label=\"Intima\")\n",
    "    plt.plot([x if x>=0 else None for x in ratio], label=\"Intima-Media Ratio\")\n",
    "    \n",
    "    if p_idx_media is not None:\n",
    "        plt.scatter(p_idx_media, np.array(thick_media)[p_idx_media], marker=\"x\", s=100)\n",
    "    if p_idx_intima is not None:\n",
    "        plt.scatter(p_idx_intima, np.array(thick_intima)[p_idx_intima], marker=\"x\", s=100)\n",
    "    discard_samples = 0\n",
    "    start = None\n",
    "    for i, x in enumerate(thick_intima):\n",
    "        if x < 0 and start is None:\n",
    "            start = i\n",
    "        elif x >= 0 and start is not None:\n",
    "            discard_samples += 1\n",
    "            if discard_samples == 1:\n",
    "                plt.axvspan(start, i-1, alpha=0.4, facecolor='gray', label=\"Discard\")\n",
    "            else:\n",
    "                plt.axvspan(start, i-1, alpha=0.4, facecolor='gray')\n",
    "            start = None\n",
    "    \n",
    "    # If the last chunk of -2 goes until the end of the list\n",
    "    if start is not None:\n",
    "        plt.axvspan(start, i, alpha=0.4, facecolor='gray')\n",
    "     \n",
    "    plt.xlabel(\"Angle\", fontsize=20)\n",
    "    plt.xticks(np.arange(0, 361, step=120), fontsize=15)\n",
    "    if y_label:\n",
    "        plt.yticks(ticks=np.arange(0, 2.2, step=0.4), fontsize=15)\n",
    "#         plt.yticks(ticks=np.arange(0, 101, step=20), fontsize=15)\n",
    "        plt.ylabel(\"Thickness\", fontsize=20)\n",
    "        plt.legend(fontsize=20, framealpha=0.5, loc='upper right')\n",
    "    else:\n",
    "        plt.yticks(ticks=np.arange(0, 1.3, step=0.4), labels=[], fontsize=20)\n",
    "    if path_to_save:\n",
    "        plt.savefig(path_to_save)\n",
    "    plt.show()\n"
   ]
  },
  {
   "cell_type": "code",
   "execution_count": null,
   "id": "bc650321",
   "metadata": {},
   "outputs": [],
   "source": [
    "df_features_label.loc[df_features_label.loc[:, \"WSI_Artery_ID\"]==wsi_artery_id, \"Label\"]"
   ]
  },
  {
   "cell_type": "code",
   "execution_count": null,
   "id": "a60a95a9",
   "metadata": {},
   "outputs": [],
   "source": []
  }
 ],
 "metadata": {
  "kernelspec": {
   "display_name": "Python 3 (ipykernel)",
   "language": "python",
   "name": "python3"
  },
  "language_info": {
   "codemirror_mode": {
    "name": "ipython",
    "version": 3
   },
   "file_extension": ".py",
   "mimetype": "text/x-python",
   "name": "python",
   "nbconvert_exporter": "python",
   "pygments_lexer": "ipython3",
   "version": "3.7.13"
  }
 },
 "nbformat": 4,
 "nbformat_minor": 5
}
