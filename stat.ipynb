{
 "cells": [
  {
   "cell_type": "code",
   "execution_count": null,
   "id": "148ef57c",
   "metadata": {},
   "outputs": [],
   "source": [
    "#!/usr/bin/python\n",
    "# -*- coding: utf-8 -*-\n",
    "# import necessary packages\n",
    "\n",
    "import os\n",
    "import numpy as np\n",
    "import pandas as pd\n",
    "import cv2\n",
    "import shutil\n",
    "import ast\n",
    "\n",
    "import seaborn as sns\n",
    "from matplotlib import pyplot as plt\n",
    "\n",
    "from collections import defaultdict\n",
    "from scipy.signal import find_peaks\n",
    "import scipy\n",
    "\n",
    "from sklearn.feature_selection import f_classif\n",
    "from extract_feature_utils import *\n",
    "from stat_vis_utils  import *"
   ]
  },
  {
   "cell_type": "code",
   "execution_count": null,
   "id": "5a8e8cee",
   "metadata": {},
   "outputs": [],
   "source": [
    "DIR_WSI = \"/Users/jinzhou/Desktop/Paper_MIA/data/wsi\"\n",
    "DIR_ANN = \"/Users/jinzhou/Desktop/Paper_MIA/data/ann_geojsons\"\n",
    "DIR_SAVE_RESULTS = \"/Users/jinzhou/Desktop/Paper_MIA/results\"\n",
    "DIR_SAVE_FIGURE = \"/Users/jinzhou/Desktop/Paper_MIA/results/figures\""
   ]
  },
  {
   "cell_type": "markdown",
   "id": "eed207ed",
   "metadata": {},
   "source": [
    "## Process thickness.csv"
   ]
  },
  {
   "cell_type": "code",
   "execution_count": null,
   "id": "5073a05a",
   "metadata": {},
   "outputs": [],
   "source": [
    "PATH_STAT_MANUAL = os.path.join(DIR_SAVE_RESULTS, \"thickness.csv\")"
   ]
  },
  {
   "cell_type": "code",
   "execution_count": null,
   "id": "c8786e19",
   "metadata": {},
   "outputs": [],
   "source": [
    "# read thickness analysis\n",
    "def read_df_from_csv(path_csv):\n",
    "    df = pd.read_csv(path_csv)\n",
    "#     df = pd.read_json(path_csv, orient=\"records\", lines=True)\n",
    "    # original list in path_csv is read as string, for example \"[0.2, 0.1, ...]\"\n",
    "    # ast.literal_eval converts string to python literal structures\n",
    "    df['Thickness_Media_Abs'] = df['Thickness_Media_Abs'].apply(lambda x: ast.literal_eval(x))\n",
    "    df['Thickness_Intima_Abs'] = df['Thickness_Intima_Abs'].apply(lambda x: ast.literal_eval(x))\n",
    "    df['Thickness_Wall_Abs'] = df['Thickness_Wall_Abs'].apply(lambda x: ast.literal_eval(x))\n",
    "\n",
    "    return df\n",
    "\n",
    "def clean(df_thick):\n",
    "\n",
    "    df_thick.loc[:, 'Artery_ID'] = df_thick.loc[:, 'Artery_ID'].str.split('_').str[0]\n",
    "    if \"12_26609_021_507 L03 TRI\" in df_thick.loc[:, 'WSI_ID'].values:\n",
    "        df_thick = df_thick[df_thick.loc[:, \"WSI_ID\"]!=\"12_26609_021_507 L03 TRI\"]\n",
    "    if \"12_26609_020_018 L05 A1 TRI\" in df_thick.loc[:, 'WSI_ID'].values:\n",
    "        df_thick = df_thick[df_thick.loc[:, \"WSI_ID\"]!=\"12_26609_020_018 L05 A1 TRI\"]   \n",
    "        \n",
    "    # Set and WSI_Artery_ID, ignoring media and intima index\n",
    "    df_thick.loc[:, 'WSI_Artery_ID'] = df_thick.loc[:, 'WSI_ID'] + '_' \\\n",
    "        + df_thick.loc[:, 'Artery_ID']\n",
    "    # For arteries with multiple lumen/intima areas, we pick the one with maxium lumen area\n",
    "    df_thick = df_thick.sort_values('Area', ascending=False).drop_duplicates(['WSI_Artery_ID'])\n",
    "    df_thick = df_thick[df_thick.loc[:, \"WSI_Artery_ID\"]!=\"11_26609_027_005 L03 TRI_A17\"]        \n",
    "    \n",
    "    return df_thick"
   ]
  },
  {
   "cell_type": "code",
   "execution_count": null,
   "id": "62acdc32",
   "metadata": {
    "scrolled": true
   },
   "outputs": [],
   "source": [
    "df_thick = read_df_from_csv(PATH_STAT_MANUAL)\n",
    "df_thick = clean(df_thick)\n",
    "df_thick.head()"
   ]
  },
  {
   "cell_type": "markdown",
   "id": "8f0d7c19",
   "metadata": {},
   "source": [
    "## Process \"Labels.xlsx\""
   ]
  },
  {
   "cell_type": "code",
   "execution_count": null,
   "id": "e780ad0c",
   "metadata": {},
   "outputs": [],
   "source": [
    "PATH_LABEL = \"/Users/jinzhou/Desktop/Paper_MIA/data/labels_updated.xlsx\""
   ]
  },
  {
   "cell_type": "code",
   "execution_count": null,
   "id": "c4ab68ec",
   "metadata": {},
   "outputs": [],
   "source": [
    "df_label = pd.ExcelFile(PATH_LABEL)\n",
    "\n",
    "# Only read the first sheet of the excel file\n",
    "sheet_name = df_label.sheet_names[0]\n",
    "df_label = df_label.parse(sheet_name, skiprows=1) # skip the first row\n",
    "# Use Artery_ID as row index and WSI_ID as column name\n",
    "df_label = df_label.rename(columns = {'Unnamed: 0':'Artery_ID'}).set_index(\"Artery_ID\")"
   ]
  },
  {
   "cell_type": "code",
   "execution_count": null,
   "id": "473a0301",
   "metadata": {},
   "outputs": [],
   "source": [
    "# replace labels of strings to integers.\n",
    "df_label = df_label.replace({\"without arteriosclerosis\": 0, \n",
    "                             \"mild arteriosclerosis\": 1, \n",
    "                             \"mild hyalinosis\": 1, \n",
    "                             \"moderate arteriosclerosis\": 2,\n",
    "                             \"severe arteriosclerosis\": 3, \n",
    "                             \"-\": np.nan, \" - \": np.nan})\n"
   ]
  },
  {
   "cell_type": "markdown",
   "id": "ac11df52",
   "metadata": {},
   "source": [
    "## Post-Processing"
   ]
  },
  {
   "cell_type": "code",
   "execution_count": null,
   "id": "d74c832c",
   "metadata": {},
   "outputs": [],
   "source": [
    "df_features_label = pd.DataFrame(columns = [])\n",
    "\n",
    "for index, row in df_thick.iterrows(): \n",
    "    \n",
    "    # get the img\n",
    "    path_artery_img = os.path.join(DIR_SAVE_FIGURE, row[\"WSI_ID\"], row[\"Artery_ID\"]+\".png\")\n",
    "    artery_img = cv2.cvtColor(cv2.imread(path_artery_img), cv2.COLOR_BGR2RGB)\n",
    "    \n",
    "    # get the measurements\n",
    "    thick_media = np.array(row[\"Thickness_Media_Abs\"])\n",
    "    thick_intima = np.array(row[\"Thickness_Intima_Abs\"])\n",
    "    thick_wall = np.array(row[\"Thickness_Wall_Abs\"])\n",
    "    thick_media, thick_intima, thick_wall = post_process(thick_media, thick_intima, thick_wall)\n",
    "#     plot_hist_w_two_list(thick_media, thick_intima, \"Thickness\", None)\n",
    "    features_intima, features_media, features_ratio = extract_features(thick_media, thick_intima, thick_wall)\n",
    "    row_features_label = {**features_intima, **features_media, **features_ratio}\n",
    "    row_features_label[\"WSI_Artery_ID\"] = row[\"WSI_Artery_ID\"]\n",
    "#     row_features_label[\"Label\"] = int(row[\"Hyalin\"])\n",
    "    row_features_label[\"Label\"] = df_label.loc[row[\"Artery_ID\"], row[\"WSI_ID\"]]\n",
    "    df_features_label = df_features_label.append(row_features_label, ignore_index=True)    \n"
   ]
  },
  {
   "cell_type": "code",
   "execution_count": null,
   "id": "59428ef4",
   "metadata": {
    "scrolled": true
   },
   "outputs": [],
   "source": [
    "df_features_label.head()"
   ]
  },
  {
   "cell_type": "markdown",
   "id": "e84fc991",
   "metadata": {},
   "source": [
    "## Boxtplot and Kendall Tau Analysis"
   ]
  },
  {
   "cell_type": "code",
   "execution_count": null,
   "id": "1e05a62c",
   "metadata": {},
   "outputs": [],
   "source": [
    "def violin_plots(df_features_label, feature_names):\n",
    "    fig = plt.figure(figsize=(5*len(feature_names), 4))\n",
    "    axs = fig.subplots(1, len(feature_names))\n",
    "\n",
    "    for i, feature_name in enumerate(feature_names):\n",
    "        features = df_features_label.loc[:, feature_name].values\n",
    "        idx_sort = features.argsort()\n",
    "        features[features>features[idx_sort][-30]] = features[idx_sort][-30]\n",
    "\n",
    "        labels = df_features_label.loc[:, \"Label\"].values\n",
    "        features_label_0 = features[labels==0]\n",
    "        features_label_1 = features[labels==1]\n",
    "        features_label_2 = features[labels==2]\n",
    "        features_label_3 = features[labels==3]\n",
    "        \n",
    "        rho, p_val = scipy.stats.kendalltau(features, labels)\n",
    "        data = pd.DataFrame({'Score': labels, 'Feature Value': features})\n",
    "\n",
    "        sns.violinplot(x='Score', y='Feature Value', data=data, ax=axs[i])\n",
    "        axs[i].set_xlabel(\"Arteriosclerosis Score\", fontsize=15)\n",
    "        if i == 0:\n",
    "            axs[i].set_ylabel(\"Feature Value\", fontsize=15)\n",
    "        else:\n",
    "            axs[i].set_ylabel(None)\n",
    "        axs[i].set_xlabel(\"Arteriosclerosis Score\", fontsize=15)\n",
    "        axs[i].set_title( feature_name + \"\\n\" + r\"$\\gamma_{\\tau}$\" + \"={:.2f}\".format(rho) + \" p<0.0001\",\n",
    "                         y=-0.4,pad=-14, fontsize=18)\n",
    "    plt.tight_layout()"
   ]
  },
  {
   "cell_type": "code",
   "execution_count": null,
   "id": "28a77ce6",
   "metadata": {},
   "outputs": [],
   "source": [
    "feature_names = [x for x in df_features_label.columns if x not in [\"WSI_Artery_ID\", \"Label\"] ]\n",
    "media_features = [x for x in feature_names if x.startswith(\"Media\")]\n",
    "intima_features  = [x for x in feature_names if x.startswith(\"Intima\")]\n",
    "ratio_features  = [x for x in feature_names if x.startswith(\"Ratio\")]"
   ]
  },
  {
   "cell_type": "code",
   "execution_count": null,
   "id": "05a1ac8b",
   "metadata": {
    "scrolled": true
   },
   "outputs": [],
   "source": [
    "violin_plots(df_features_label, intima_features[:2])\n",
    "violin_plots(df_features_label, media_features[:2])\n",
    "violin_plots(df_features_label, ratio_features[:2])"
   ]
  },
  {
   "cell_type": "code",
   "execution_count": null,
   "id": "f0d6fa06",
   "metadata": {
    "scrolled": true
   },
   "outputs": [],
   "source": [
    "wsi_artery_ids_hist_comp = [\"11_26609_027_006 L02 TRI_A07\", \"11_26609_009_008 L10 TRI_A01\",\n",
    "                            \"11_26609_098_005_L4 TRI_A09\", \"11_26609_020_006 A15 TRI_A22\"]\n",
    "\n",
    "dir_to_save = \"/Users/jinzhou/Desktop/Paper_MIA/paper/figs\"\n",
    "for wsi_artery_id in wsi_artery_ids_hist_comp:\n",
    "    row = df_thick.loc[df_thick.loc[:, \"WSI_Artery_ID\"]==wsi_artery_id, :]\n",
    "    path_artery_img = os.path.join(DIR_SAVE_FIGURE, row[\"WSI_ID\"].values[0], row[\"Artery_ID\"].values[0]+\".png\")\n",
    "    thick_media = row[\"Thickness_Media_Abs\"].values[0]\n",
    "    thick_intima = row[\"Thickness_Intima_Abs\"].values[0]\n",
    "    thick_wall = row[\"Thickness_Wall_Abs\"].values[0]\n",
    "    thick_media, thick_intima, thick_wall = post_process(thick_media, thick_intima, thick_wall)\n",
    "    label = df_label.loc[row[\"Artery_ID\"], row[\"WSI_ID\"]].values[0][0]\n",
    "    path_to_save = os.path.join(dir_to_save, wsi_artery_id+\"_hist_score_\"+str(int(label))+\".png\")\n",
    "    print(path_to_save, label)\n",
    "    plot_hist_w_two_list(thick_media, thick_intima, \"Thickness\", path_to_save)\n",
    "    shutil.copy(path_artery_img, os.path.join(dir_to_save, wsi_artery_id+\".png\"))"
   ]
  },
  {
   "cell_type": "code",
   "execution_count": null,
   "id": "5da2d0c2",
   "metadata": {
    "scrolled": true
   },
   "outputs": [],
   "source": [
    "wsi_artery_ids_hist_comp = [\"11_26609_027_006 L02 TRI_A07\", \"11_26609_009_008 L10 TRI_A01\",\n",
    "                            \"11_26609_098_005_L4 TRI_A09\", \"11_26609_020_006 A15 TRI_A22\"]\n",
    "wsi_artery_ids_hist_comp = df_thick.loc[:, \"WSI_Artery_ID\"].values\n",
    "dir_to_save = \"/Users/jinzhou/Desktop/Paper_MIA/paper/figs\"\n",
    "for wsi_artery_id in wsi_artery_ids_hist_comp:\n",
    "    row = df_thick.loc[df_thick.loc[:, \"WSI_Artery_ID\"]==wsi_artery_id, :]\n",
    "    label = df_label.loc[row[\"Artery_ID\"], row[\"WSI_ID\"]].values[0][0]\n",
    "    if label < 2: continue\n",
    "\n",
    "    path_artery_img = os.path.join(DIR_SAVE_FIGURE, row[\"WSI_ID\"].values[0], row[\"Artery_ID\"].values[0]+\".png\")\n",
    "    artery_img = cv2.cvtColor(cv2.imread(path_artery_img), cv2.COLOR_BGR2RGB)\n",
    "    thick_media = row[\"Thickness_Media_Abs\"].values[0]\n",
    "    thick_intima = row[\"Thickness_Intima_Abs\"].values[0]\n",
    "    thick_wall = row[\"Thickness_Wall_Abs\"].values[0]\n",
    "    thick_media, thick_intima, thick_wall = post_process(thick_media, thick_intima, thick_wall)\n",
    "    path_to_save = None\n",
    "    print(wsi_artery_id, label)\n",
    "    plt.imshow(artery_img)\n",
    "    plt.show()\n",
    "    plot_hist_w_two_list(thick_media, thick_intima, \"Thickness\", path_to_save)\n",
    "#     shutil.copy(path_artery_img, os.path.join(dir_to_save, wsi_artery_id+\".png\"))"
   ]
  },
  {
   "cell_type": "code",
   "execution_count": null,
   "id": "ec5678ab",
   "metadata": {
    "scrolled": false
   },
   "outputs": [],
   "source": [
    "df_features_label.sort_values(\"Intima Peak Height\")[:40]"
   ]
  },
  {
   "cell_type": "code",
   "execution_count": null,
   "id": "e52852d6",
   "metadata": {
    "scrolled": false
   },
   "outputs": [],
   "source": [
    "wsi_artery_ids_hist_comp = [\"11_26609_009_008 L10 TRI_A23\", \"11_26609_098_005_L4 TRI_A07\"]\n",
    "\n",
    "dir_to_save = \"/Users/jinzhou/Desktop/Paper_MIA/paper/figs\"\n",
    "for wsi_artery_id in wsi_artery_ids_hist_comp:\n",
    "    row = df_thick.loc[df_thick.loc[:, \"WSI_Artery_ID\"]==wsi_artery_id, :]\n",
    "    path_artery_img = os.path.join(DIR_SAVE_FIGURE, row[\"WSI_ID\"].values[0], row[\"Artery_ID\"].values[0]+\".png\")\n",
    "    artery_img = cv2.cvtColor(cv2.imread(path_artery_img), cv2.COLOR_BGR2RGB)\n",
    "    \n",
    "    thick_media = row[\"Thickness_Media_Abs\"].values[0]\n",
    "    thick_intima = row[\"Thickness_Intima_Abs\"].values[0]\n",
    "    thick_wall = row[\"Thickness_Wall_Abs\"].values[0]\n",
    "    thick_media, thick_intima, thick_wall = post_process(thick_media, thick_intima, thick_wall)\n",
    "    label = df_label.loc[row[\"Artery_ID\"], row[\"WSI_ID\"]].values[0][0]\n",
    "    \n",
    "    thick_media, thick_intima, thick_wall = post_process(thick_media, thick_intima, thick_wall)\n",
    "    path_to_save = None\n",
    "    plt.imshow(artery_img)\n",
    "    plt.show()\n",
    "    plot_hist_w_two_list(thick_media, thick_intima, \"Thickness\", path_to_save)\n",
    "    \n",
    "    print(df_features_label.loc[df_features_label.loc[:, \"WSI_Artery_ID\"]==wsi_artery_id, :])"
   ]
  },
  {
   "cell_type": "code",
   "execution_count": null,
   "id": "5f1d43c8",
   "metadata": {},
   "outputs": [],
   "source": []
  }
 ],
 "metadata": {
  "kernelspec": {
   "display_name": "Python 3 (ipykernel)",
   "language": "python",
   "name": "python3"
  },
  "language_info": {
   "codemirror_mode": {
    "name": "ipython",
    "version": 3
   },
   "file_extension": ".py",
   "mimetype": "text/x-python",
   "name": "python",
   "nbconvert_exporter": "python",
   "pygments_lexer": "ipython3",
   "version": "3.7.13"
  }
 },
 "nbformat": 4,
 "nbformat_minor": 5
}
