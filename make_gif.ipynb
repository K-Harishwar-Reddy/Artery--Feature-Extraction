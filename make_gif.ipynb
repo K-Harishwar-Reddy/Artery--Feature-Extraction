{
 "cells": [
  {
   "cell_type": "code",
   "execution_count": null,
   "id": "002b0593",
   "metadata": {},
   "outputs": [],
   "source": [
    "import imageio\n",
    "import os"
   ]
  },
  {
   "cell_type": "code",
   "execution_count": null,
   "id": "7ee9f3c1",
   "metadata": {},
   "outputs": [],
   "source": [
    "dir_path = \"/Users/jinzhou/Desktop/Paper_MIA/results/figures/11_26609_009_008 L10 TRI/A47\""
   ]
  },
  {
   "cell_type": "code",
   "execution_count": null,
   "id": "1cf05c19",
   "metadata": {
    "scrolled": true
   },
   "outputs": [],
   "source": [
    "file_nams = sorted(os.listdir(dir_path), key=lambda x: int(x[:-4]))\n",
    "file_nams"
   ]
  },
  {
   "cell_type": "code",
   "execution_count": null,
   "id": "999462ed",
   "metadata": {
    "scrolled": true
   },
   "outputs": [],
   "source": [
    "images = []\n",
    "for filename in file_nams:\n",
    "    file_path = os.path.join(dir_path, filename)\n",
    "    images.append(imageio.imread(file_path))\n",
    "# imageio.mimsave('/path/to/movie.gif', images)\n"
   ]
  },
  {
   "cell_type": "code",
   "execution_count": null,
   "id": "4929f366",
   "metadata": {},
   "outputs": [],
   "source": [
    "imageio.mimsave('/Users/jinzhou/Desktop/movie.gif', images, duration=0.5)\n"
   ]
  },
  {
   "cell_type": "code",
   "execution_count": null,
   "id": "bc5f2126",
   "metadata": {},
   "outputs": [],
   "source": []
  }
 ],
 "metadata": {
  "kernelspec": {
   "display_name": "Python 3 (ipykernel)",
   "language": "python",
   "name": "python3"
  },
  "language_info": {
   "codemirror_mode": {
    "name": "ipython",
    "version": 3
   },
   "file_extension": ".py",
   "mimetype": "text/x-python",
   "name": "python",
   "nbconvert_exporter": "python",
   "pygments_lexer": "ipython3",
   "version": "3.7.13"
  }
 },
 "nbformat": 4,
 "nbformat_minor": 5
}
