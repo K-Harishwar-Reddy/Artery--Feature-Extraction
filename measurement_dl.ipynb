{
 "cells": [
  {
   "cell_type": "code",
   "execution_count": 1,
   "id": "6ab12dc4",
   "metadata": {
    "scrolled": true
   },
   "outputs": [],
   "source": [
    "#!/usr/bin/python\n",
    "# -*- coding: utf-8 -*-\n",
    "\n",
    "# Standard library imports\n",
    "import os\n",
    "import time\n",
    "\n",
    "# Third-party imports\n",
    "import cv2\n",
    "import geojson\n",
    "import numpy as np\n",
    "import openslide\n",
    "import pandas as pd\n",
    "\n",
    "# Local application/library specific imports\n",
    "from utils_data import (adjust_artery_coords_by_boundry, cnt_polygon_test, clean_coord, \n",
    "                        get_border_of_ann, get_border_of_cnt, get_cnts_inside)\n",
    "from utils_measure import measure_thickness\n",
    "from utils_measure_vis import plot_artery_ann, save_img, imshow_k_in_row\n",
    "from skimage import morphology"
   ]
  },
  {
   "cell_type": "code",
   "execution_count": 2,
   "id": "47bd34ca",
   "metadata": {},
   "outputs": [],
   "source": [
    "DIR_WSI = \"/Users/jinzhou/Desktop/Paper_MIA/data/wsi\"\n",
    "DIR_ANN = \"/Users/jinzhou/Desktop/Paper_MIA/data/ann_geojson\"\n",
    "DIR_TEST = \"/Users/jinzhou/Desktop/Paper_MIA/test\" # parent folder for input and gt in testset\n",
    "\n",
    "DIR_DL = \"/Users/jinzhou/Desktop/Paper_MIA/dl_output\" # folder for DL predictions on testset\n",
    "\n",
    "DIR_SAVE_RESULTS = \"/Users/jinzhou/Desktop/Paper_MIA/results\"\n",
    "DIR_SAVE_FIGURE = \"/Users/jinzhou/Desktop/Paper_MIA/results/figures\""
   ]
  },
  {
   "cell_type": "code",
   "execution_count": 3,
   "id": "c9642052",
   "metadata": {},
   "outputs": [],
   "source": [
    "def clean(img):\n",
    "    # removing small holes and objects\n",
    "    small_holes_th = np.count_nonzero(img) / 20\n",
    "    small_objects_th = np.count_nonzero(img) / 20\n",
    "    img_rmh = morphology.remove_small_holes(img, area_threshold=small_holes_th)\n",
    "    img_rmo = morphology.remove_small_objects(img_rmh, min_size =small_objects_th)\n",
    "    res = np.uint8(img_rmo*255)\n",
    "    return res\n",
    "\n",
    "def get_largest_cnt(contours):\n",
    "    largest_contour = None\n",
    "    max_area = 0\n",
    "    max_area_index = 0\n",
    "    for i, contour in enumerate(contours):\n",
    "        area = cv2.contourArea(contour)\n",
    "        if area > max_area:\n",
    "            largest_contour = contour\n",
    "            max_area = area\n",
    "            max_area_index = i\n",
    "    return largest_contour, max_area_index"
   ]
  },
  {
   "cell_type": "code",
   "execution_count": 4,
   "id": "6349fb28",
   "metadata": {},
   "outputs": [],
   "source": [
    "def get_three_cnts(img):\n",
    "    img_outer = (img > 0) * 255 # area under the outer contour of media\n",
    "    img_middle = (img > 85) * 255 # area under the outer contour of intima\n",
    "    img_inner = (img > 170) * 255 # area under the outer contour of lumen\n",
    "#     imshow_k_in_row([gt, img, img_outer, img_middle, img_inner])\n",
    "    img_outer = clean(img_outer)\n",
    "    img_middle = clean(img_middle)\n",
    "    img_inner = clean(img_inner)\n",
    "#     imshow_k_in_row([gt, img, img_outer, img_middle, img_inner])\n",
    "    cnt_outers, _ = cv2.findContours(img_outer.copy(), cv2.RETR_EXTERNAL, cv2.CHAIN_APPROX_NONE)\n",
    "    cnt_outer, _ = get_largest_cnt(cnt_outers)\n",
    "    cnt_outer = cnt_outer.squeeze()\n",
    "    cnts_middle, _ = cv2.findContours(img_middle.copy(), cv2.RETR_EXTERNAL, cv2.CHAIN_APPROX_NONE)\n",
    "    cnts_middle = [cnt.squeeze() for cnt in cnts_middle]\n",
    "    cnts_inner, _ = cv2.findContours(img_inner.copy(), cv2.RETR_EXTERNAL, cv2.CHAIN_APPROX_NONE)\n",
    "    cnts_inner = [cnt.squeeze() for cnt in cnts_inner]\n",
    "    \n",
    "    return cnt_outer, cnts_middle, cnts_inner"
   ]
  },
  {
   "cell_type": "code",
   "execution_count": 5,
   "id": "d689c32b",
   "metadata": {
    "scrolled": true
   },
   "outputs": [
    {
     "name": "stderr",
     "output_type": "stream",
     "text": [
      "/Users/jinzhou/anaconda3/envs/cv/lib/python3.7/site-packages/skimage/_shared/utils.py:157: UserWarning: Any labeled images will be returned as a boolean array. Did you mean to use a boolean array?\n",
      "  return func(*args, **kwargs)\n"
     ]
    }
   ],
   "source": [
    "df = pd.DataFrame(columns = ['WSI_ID', 'Artery_ID', 'Thickness_Media', 'Thickness_Intima', \n",
    "                            'Area_Media', 'Area_Intima', 'Area_Lumen', 'Curr_Area_Intima', 'Curr_Area_Lumen'])\n",
    "\n",
    "fails = []\n",
    "for img_name in os.listdir(DIR_DL):    \n",
    "    if not img_name.endswith(\"pred.png\"): continue\n",
    "    # example img_name: 11_26609_000_011_L02_TRI_A01_pred.png\n",
    "    wsi_id = img_name[:-13] # eg. 11_26609_000_011_L02_TRI\n",
    "    artery_id = img_name[-12: -9] # eg. A01\n",
    "    gt_name = img_name[:-8] +\"gt.png\" # eg. 11_26609_000_011_L02_TRI_A01_gt.png\n",
    "    \n",
    "    input_path = os.path.join(DIR_TEST, \"input\", img_name[:-9]+\".png\")\n",
    "    gt_path = os.path.join(DIR_DL, gt_name)\n",
    "    pred_path = os.path.join(DIR_DL, img_name)\n",
    "    \n",
    "    input_img = cv2.cvtColor(cv2.imread(input_path), cv2.COLOR_BGR2RGB)\n",
    "    gt = cv2.cvtColor(cv2.imread(gt_path), cv2.COLOR_BGR2GRAY)\n",
    "    pred = cv2.cvtColor(cv2.imread(pred_path), cv2.COLOR_BGR2GRAY)\n",
    "    \n",
    "    # all media/lumen/intima have to exist to measure thickness\n",
    "    if len(np.unique(pred)) != 4: \n",
    "        fails.append(img_name)\n",
    "        continue\n",
    "    \n",
    "    cnt_outer, cnts_middle, cnts_inner = get_three_cnts(pred)\n",
    "    # vis contours on top of an artery\n",
    "    input_w_cnts = plot_artery_ann(input_img, cnt_outer, cnts_middle, cnts_inner)\n",
    "    \n",
    "    # vis only contours\n",
    "    h, w = input_img.shape[:2]\n",
    "    curr_ann = np.zeros((h, w, 3), np.uint8)\n",
    "    curr_ann = plot_artery_ann(curr_ann, cnt_outer, cnts_middle, cnts_inner)\n",
    "    dir_save = os.path.join(DIR_SAVE_FIGURE, wsi_id, artery_id)\n",
    "\n",
    "    area_lumen = np.sum([cv2.contourArea(cnt) for cnt in cnts_inner])\n",
    "    area_intima = np.sum([cv2.contourArea(cnt) for cnt in cnts_middle]) - area_lumen    \n",
    "    area_media = cv2.contourArea(cnt_outer) - area_intima - area_lumen\n",
    "    exist = False\n",
    "    thick_media = []\n",
    "    thick_intima = []\n",
    "    for idx, cnt_middle in enumerate(cnts_middle):\n",
    "        for idy, cnt_inner in enumerate(cnts_inner):\n",
    "            if cnt_polygon_test(cnt_inner, cnt_middle):\n",
    "                # radial lines intersecs with excludde should be discarded\n",
    "                exclude = cnts_middle[:idx] + cnts_middle[idx+1:]+ cnts_inner[:idy] + cnts_inner[idy+1:]\n",
    "                thick_media_sub, thick_intima_sub=measure_thickness(\n",
    "                    cnt_outer, cnt_middle, cnt_inner, angle_width=15, exclude=exclude, \n",
    "                    vis=curr_ann, dir_save=dir_save)\n",
    "                thick_media = thick_media_sub\n",
    "                thick_intima = thick_intima_sub\n",
    "                curr_area_intima = cv2.contourArea(cnt_middle)\n",
    "                curr_area_lumen = cv2.contourArea(cnt_inner)\n",
    "                row = {'WSI_ID':wsi_id, 'Artery_ID':artery_id, \n",
    "                       'Thickness_Media':thick_media, 'Thickness_Intima':thick_intima,\n",
    "                       'Area_Media': area_media, 'Area_Intima': area_intima, 'Area_Lumen': area_lumen,\n",
    "                       'Curr_Area_Intima': curr_area_intima, 'Curr_Area_Lumen': curr_area_lumen}\n",
    "                df = df.append(row, ignore_index=True)\n",
    "                exist = True\n",
    "    if not exist:\n",
    "        print(\"not exist\")\n",
    "#     imshow_k_in_row([curr_ann])"
   ]
  },
  {
   "cell_type": "code",
   "execution_count": 6,
   "id": "fd0d1df4",
   "metadata": {},
   "outputs": [],
   "source": [
    "path_to_save = os.path.join(DIR_SAVE_RESULTS, \"thickness_dl.json\")\n",
    "df.to_json(path_to_save, orient=\"records\", lines=True)"
   ]
  }
 ],
 "metadata": {
  "kernelspec": {
   "display_name": "Python 3 (ipykernel)",
   "language": "python",
   "name": "python3"
  },
  "language_info": {
   "codemirror_mode": {
    "name": "ipython",
    "version": 3
   },
   "file_extension": ".py",
   "mimetype": "text/x-python",
   "name": "python",
   "nbconvert_exporter": "python",
   "pygments_lexer": "ipython3",
   "version": "3.7.13"
  }
 },
 "nbformat": 4,
 "nbformat_minor": 5
}
