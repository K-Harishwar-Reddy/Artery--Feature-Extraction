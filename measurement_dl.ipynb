{
 "cells": [
  {
   "cell_type": "code",
   "execution_count": null,
   "id": "9e4a947e",
   "metadata": {},
   "outputs": [],
   "source": [
    "#!/usr/bin/python\n",
    "# -*- coding: utf-8 -*-\n",
    "# import necessary packages\n",
    "import os\n",
    "import numpy as np\n",
    "import pandas as pd\n",
    "\n",
    "from skimage import morphology\n",
    "\n",
    "from vis_utils import *\n",
    "from measure_utils import *\n",
    "from data_utils import cnt_polygon_test"
   ]
  },
  {
   "cell_type": "code",
   "execution_count": null,
   "id": "75d44da9",
   "metadata": {},
   "outputs": [],
   "source": [
    "DIR_TEST = \"/Users/jinzhou/Desktop/USCAP/test\" # parent folder for input and gt in testset\n",
    "DIR_DL = \"/Users/jinzhou/Desktop/USCAP/dl_output\" # folder for DL predictions on testset\n",
    "DIR_SAVE_RESULTS = \"/Users/jinzhou/Desktop/USCAP/results\" # folder for saving analysis results"
   ]
  },
  {
   "cell_type": "code",
   "execution_count": null,
   "id": "876e5f23",
   "metadata": {},
   "outputs": [],
   "source": []
  },
  {
   "cell_type": "code",
   "execution_count": null,
   "id": "31cfc8a5",
   "metadata": {},
   "outputs": [],
   "source": [
    "def clean(img):\n",
    "    # removing small holes and objects\n",
    "    small_holes_th = np.count_nonzero(img) / 20\n",
    "    small_objects_th = np.count_nonzero(img) / 20\n",
    "    img_rmh = morphology.remove_small_holes(img, area_threshold=small_holes_th)\n",
    "    img_rmo = morphology.remove_small_objects(img_rmh, min_size =small_objects_th)\n",
    "    res = np.uint8(img_rmo*255)\n",
    "    return res\n",
    "\n",
    "def get_largest_cnt(contours):\n",
    "    largest_contour = None\n",
    "    max_area = 0\n",
    "    max_area_index = 0\n",
    "    for i, contour in enumerate(contours):\n",
    "        area = cv2.contourArea(contour)\n",
    "        if area > max_area:\n",
    "            largest_contour = contour\n",
    "            max_area = area\n",
    "            max_area_index = i\n",
    "    return largest_contour, max_area_index"
   ]
  },
  {
   "cell_type": "code",
   "execution_count": null,
   "id": "c1c6574d",
   "metadata": {},
   "outputs": [],
   "source": [
    "def get_three_cnts(img):\n",
    "    img_outer = (img > 0) * 255 # area under the outer contour of media\n",
    "    img_middle = (img > 85) * 255 # area under the outer contour of intima\n",
    "    img_inner = (img > 170) * 255 # area under the outer contour of lumen\n",
    "#     imshow_k_in_row([gt, img, img_outer, img_middle, img_inner])\n",
    "    img_outer = clean(img_outer)\n",
    "    img_middle = clean(img_middle)\n",
    "    img_inner = clean(img_inner)\n",
    "#     imshow_k_in_row([gt, img, img_outer, img_middle, img_inner])\n",
    "    cnt_outers, _ = cv2.findContours(img_outer.copy(), cv2.RETR_EXTERNAL, cv2.CHAIN_APPROX_NONE)\n",
    "    cnt_outer, _ = get_largest_cnt(cnt_outers)\n",
    "    cnt_outer = cnt_outer.squeeze()\n",
    "    cnts_middle, _ = cv2.findContours(img_middle.copy(), cv2.RETR_EXTERNAL, cv2.CHAIN_APPROX_NONE)\n",
    "    cnts_middle = [cnt.squeeze() for cnt in cnts_middle]\n",
    "    cnts_inner, _ = cv2.findContours(img_inner.copy(), cv2.RETR_EXTERNAL, cv2.CHAIN_APPROX_NONE)\n",
    "    cnts_inner = [cnt.squeeze() for cnt in cnts_inner]\n",
    "    \n",
    "    return cnt_outer, cnts_middle, cnts_inner"
   ]
  },
  {
   "cell_type": "code",
   "execution_count": null,
   "id": "2b9dd10a",
   "metadata": {},
   "outputs": [],
   "source": [
    "# df_features_label = pd.read_csv(os.path.join(DIR_SAVE_RESULTS, \"features_label_dl.csv\"))\n",
    "# print(df_features_label.head())"
   ]
  },
  {
   "cell_type": "code",
   "execution_count": null,
   "id": "10762371",
   "metadata": {
    "scrolled": false
   },
   "outputs": [],
   "source": [
    "df = pd.DataFrame(columns = ['WSI_ID', 'Artery_ID', 'Area', 'Thickness_Media_Abs', \n",
    "                             'Thickness_Intima_Abs', 'Thickness_Wall_Abs'])\n",
    "\n",
    "path_to_save = os.path.join(DIR_SAVE_RESULTS, \"thickness_dl.csv\")\n",
    "fails = []\n",
    "for img_name in os.listdir(DIR_DL):\n",
    "#     if not img_name in [\"11_26609_000_011_L02_TRI_A11_pred.png\",\n",
    "#                         \"11_26609_000_011_L02_TRI_A08_pred.png\", \n",
    "#                         \"11_26609_020_006 A15 TRI_A16_pred.png\",\n",
    "#                         \"11_26609_020_006 A15 TRI_A22_pred.png\"]:\n",
    "#         continue\n",
    "    \n",
    "    if not img_name.endswith(\"pred.png\"): continue\n",
    "    # example img_name: 11_26609_000_011_L02_TRI_A01_pred.png\n",
    "    wsi_id = img_name[:-13] # eg. 11_26609_000_011_L02_TRI\n",
    "    artery_id = img_name[-12: -9] # eg. A01\n",
    "    gt_name = img_name[:-8] +\"gt.png\" # eg. 11_26609_000_011_L02_TRI_A01_gt.png\n",
    "#     print(img_name)\n",
    "#     row = df_features_label.loc[df_features_label.loc[:, \"WSI_Artery_ID\"] == img_name[:-9]]\n",
    "#     print(\"Label\", row[\"Label\"].values[0], \n",
    "#           \"Media Average\", round(row[\"Media Average\"].values[0], 2), \n",
    "#           \"Media Power\", round(row[\"Media Power\"].values[0], 2), \n",
    "#           \"Intima Average\", round(row[\"Intima Average\"].values[0], 2), \n",
    "#           \"Intima Power\", round(row[\"Intima Power\"].values[0], 2))\n",
    "    input_path = os.path.join(DIR_TEST, \"input\", img_name[:-9]+\".png\")\n",
    "    gt_path = os.path.join(DIR_DL, gt_name)\n",
    "    pred_path = os.path.join(DIR_DL, img_name)\n",
    "    \n",
    "    input_img = cv2.cvtColor(cv2.imread(input_path), cv2.COLOR_BGR2RGB)\n",
    "    gt = cv2.cvtColor(cv2.imread(gt_path), cv2.COLOR_BGR2GRAY)\n",
    "    pred = cv2.cvtColor(cv2.imread(pred_path), cv2.COLOR_BGR2GRAY)\n",
    "    \n",
    "    # all media/lumen/intima have to exist to measure thickness\n",
    "    if len(np.unique(pred)) != 4: \n",
    "        fails.append(img_name)\n",
    "        continue\n",
    "    \n",
    "    cnt_outer, cnts_middle, cnts_inner = get_three_cnts(pred)\n",
    "    # vis contours on top of an artery\n",
    "    input_w_cnts = plot_artery_ann(input_img, cnt_outer, cnts_middle, cnts_inner)\n",
    "    imshow_k_in_row([input_w_cnts])\n",
    "    # vis only contours\n",
    "    h, w = input_img.shape[:2]\n",
    "    vis_cnts = np.zeros((h, w, 3), np.uint8)\n",
    "    vis_cnts = plot_artery_ann(vis_cnts, cnt_outer, cnts_middle, cnts_inner)\n",
    "    exist = False\n",
    "    for idx, cnt_middle in enumerate(cnts_middle):\n",
    "        for idy, cnt_inner in enumerate(cnts_inner):\n",
    "            if cnt_polygon_test(cnt_inner, cnt_middle):\n",
    "                area_inner = cv2.contourArea(cnt_inner)\n",
    "                # radial lines intersecs with excludde should be discarded\n",
    "                exclude = cnts_middle[:idx] + cnts_middle[idx+1:]+ cnts_inner[:idy] + cnts_inner[idy+1:]\n",
    "                thick_media, thick_intima, thick_wall = measure_thickness(wsi_id, artery_id, cnt_outer, cnt_middle, cnt_inner,\n",
    "                                                            vis_cnts, angle_width=10, exclude=exclude)\n",
    "                row = {'WSI_ID':wsi_id, 'Artery_ID':artery_id+'_'+str(idx)+'_'+str(idy), \n",
    "                       'Area': area_inner, 'Thickness_Media_Abs':thick_media, 'Thickness_Intima_Abs':thick_intima,\n",
    "                       'Thickness_Wall_Abs':thick_wall}\n",
    "                df = df.append(row, ignore_index=True)\n",
    "                exist = True\n",
    "    if not exist:\n",
    "        cnt_middle, idx = get_largest_cnt(cnts_middle)\n",
    "        cnt_inner, idy = get_largest_cnt(cnts_inner)\n",
    "        area_inner = cv2.contourArea(cnt_inner)\n",
    "        # radial lines intersecs with excludde should be discarded\n",
    "        exclude = cnts_middle[:idx] + cnts_middle[idx+1:]+ cnts_inner[:idy] + cnts_inner[idy+1:]\n",
    "        thick_media, thick_intima, thick_wall = measure_thickness(wsi_id, artery_id, cnt_outer, cnt_middle, cnt_inner,\n",
    "                                                    vis_cnts, angle_width=10, exclude=exclude)\n",
    "        row = {'WSI_ID':wsi_id, 'Artery_ID':artery_id+'_'+str(idx)+'_'+str(idy), \n",
    "               'Area': area_inner, 'Thickness_Media_Abs':thick_media, 'Thickness_Intima_Abs':thick_intima,\n",
    "               'Thickness_Wall_Abs':thick_wall}\n",
    "        df = df.append(row, ignore_index=True)\n",
    "    imshow_k_in_row([vis_cnts])\n",
    "# df.to_csv(path_to_save, index=False)"
   ]
  },
  {
   "cell_type": "code",
   "execution_count": null,
   "id": "a0ba5144",
   "metadata": {
    "scrolled": true
   },
   "outputs": [],
   "source": [
    "print(fails)"
   ]
  },
  {
   "cell_type": "code",
   "execution_count": null,
   "id": "c374848b",
   "metadata": {},
   "outputs": [],
   "source": [
    "df.head()"
   ]
  },
  {
   "cell_type": "code",
   "execution_count": null,
   "id": "cd45b79c",
   "metadata": {},
   "outputs": [],
   "source": [
    "row[\"Media Average\"].values[0]"
   ]
  },
  {
   "cell_type": "code",
   "execution_count": null,
   "id": "ccc248c6",
   "metadata": {},
   "outputs": [],
   "source": []
  }
 ],
 "metadata": {
  "kernelspec": {
   "display_name": "Python 3 (ipykernel)",
   "language": "python",
   "name": "python3"
  },
  "language_info": {
   "codemirror_mode": {
    "name": "ipython",
    "version": 3
   },
   "file_extension": ".py",
   "mimetype": "text/x-python",
   "name": "python",
   "nbconvert_exporter": "python",
   "pygments_lexer": "ipython3",
   "version": "3.7.13"
  }
 },
 "nbformat": 4,
 "nbformat_minor": 5
}
